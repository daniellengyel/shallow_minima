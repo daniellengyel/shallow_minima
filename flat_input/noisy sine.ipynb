{
 "cells": [
  {
   "cell_type": "code",
   "execution_count": 15,
   "metadata": {},
   "outputs": [],
   "source": [
    "import torch\n",
    "import matplotlib.pyplot as plt"
   ]
  },
  {
   "cell_type": "code",
   "execution_count": 469,
   "metadata": {},
   "outputs": [],
   "source": [
    "import torch\n",
    "from torch.utils.data import Dataset\n",
    "import pandas as pd\n",
    "import numpy as np\n",
    "from datetime import datetime\n",
    "\n",
    "\n",
    "class SineDataset(Dataset):\n",
    "    \"\"\"Load an NBA dataset.\"\"\"\n",
    "\n",
    "    def __init__(self, X, Y):\n",
    "        \"\"\"\n",
    "        Args:\n",
    "            file_location (string): Location of the file\n",
    "            normalise (callable, optional): Optional transform to be applied\n",
    "                on a sample.\n",
    "        \"\"\"\n",
    "        self.X = X\n",
    "        self.Y = Y\n",
    "\n",
    "\n",
    "\n",
    "    def __len__(self):\n",
    "        return self.X.shape[0]\n",
    "\n",
    "\n",
    "    def __getitem__(self, idx):\n",
    "        output = [torch.as_tensor([self.X[idx]]).float(), torch.as_tensor([self.Y[idx]]).float()]\n",
    "\n",
    "#         x = np.zeros(len(self.X))\n",
    "#         x[idx] = 1\n",
    "#         output = [torch.as_tensor(x).float(), torch.as_tensor([self.Y[idx]])]\n",
    "\n",
    "        return output"
   ]
  },
  {
   "cell_type": "markdown",
   "metadata": {},
   "source": [
    "# Just add noise to the output "
   ]
  },
  {
   "cell_type": "code",
   "execution_count": 470,
   "metadata": {},
   "outputs": [
    {
     "data": {
      "image/png": "[encoded data removed]",
      "text/plain": [
       "<Figure size 432x288 with 1 Axes>"
      ]
     },
     "metadata": {
      "needs_background": "light"
     },
     "output_type": "display_data"
    }
   ],
   "source": [
    "sample_points = 30\n",
    "X = np.linspace(-5, 5, sample_points)\n",
    "Y = np.sin(X) + np.random.normal(0, 0.15, [sample_points])\n",
    "plt.plot(X, Y)\n",
    "plt.show()"
   ]
  },
  {
   "cell_type": "markdown",
   "metadata": {},
   "source": [
    "# Get input to one hot\n"
   ]
  },
  {
   "cell_type": "code",
   "execution_count": 481,
   "metadata": {},
   "outputs": [],
   "source": [
    "sample_points = 5\n",
    "X = np.linspace(-5, 5, sample_points)\n",
    "Y = np.eye(sample_points)"
   ]
  },
  {
   "cell_type": "markdown",
   "metadata": {},
   "source": [
    "# Just train. Generalization will come later ..."
   ]
  },
  {
   "cell_type": "code",
   "execution_count": 482,
   "metadata": {},
   "outputs": [],
   "source": [
    "import torch.nn as nn\n",
    "import torch.nn.functional as F\n",
    "\n",
    "class Net(nn.Module):\n",
    "    def __init__(self):\n",
    "        super(Net, self).__init__()\n",
    "        \n",
    "        inp_dim = 1 #30\n",
    "        out_dim = 5\n",
    "        width = 36\n",
    "        num_layers = 6\n",
    "        self.fc1 = nn.Linear(inp_dim, width)\n",
    "        self.layers = [nn.Linear(width, width) for _ in range(num_layers)]\n",
    "        self.fc2 = nn.Linear(width, out_dim)\n",
    "\n",
    "    def forward(self, x):\n",
    "        x = F.relu(self.fc1(x))\n",
    "#         x = self.fc1(x)\n",
    "\n",
    "        for i in range(len(self.layers)):\n",
    "            x = F.relu(self.layers[i](x))\n",
    "        x = self.fc2(x)\n",
    "        return x\n",
    "\n",
    "\n",
    "net = Net()"
   ]
  },
  {
   "cell_type": "code",
   "execution_count": 486,
   "metadata": {},
   "outputs": [],
   "source": [
    "import torch.optim as optim\n",
    "\n",
    "criterion = nn.MSELoss()\n",
    "optimizer = optim.SGD(net.parameters(), lr=1e-1)\n",
    "\n",
    "args = {}\n",
    "args[\"epochs\"] = 1000\n",
    "args[\"batch_size\"] = 1"
   ]
  },
  {
   "cell_type": "code",
   "execution_count": 487,
   "metadata": {},
   "outputs": [],
   "source": [
    "# Create datasets and dataloaders\n",
    "train_data = SineDataset(X, Y)\n",
    "train_loader = torch.utils.data.DataLoader(train_data, batch_size=args[\"batch_size\"],\n",
    "                                           shuffle=True, num_workers=4, drop_last=True)"
   ]
  },
  {
   "cell_type": "code",
   "execution_count": 493,
   "metadata": {},
   "outputs": [
    {
     "name": "stdout",
     "output_type": "stream",
     "text": [
      "Epoch 0\n",
      "0.36396352760493755\n",
      "Epoch 100\n",
      "0.3612036071717739\n",
      "Epoch 200\n",
      "0.35801877826452255\n",
      "Epoch 300\n",
      "0.3543599396944046\n",
      "Epoch 400\n",
      "0.3508154358714819\n",
      "Epoch 500\n",
      "0.3476573470979929\n",
      "Epoch 600\n",
      "0.34398779831826687\n",
      "Epoch 700\n",
      "0.3403967171907425\n",
      "Epoch 800\n",
      "0.3374486695975065\n",
      "Epoch 900\n",
      "0.33314396254718304\n",
      "Finished Training\n"
     ]
    }
   ],
   "source": [
    "for epoch in range(args[\"epochs\"]):  # loop over the dataset multiple times\n",
    "    running_loss = 0.0\n",
    "    for i, data in enumerate(train_loader, 0):\n",
    "        # get the inputs; data is a list of [inputs, labels]\n",
    "        inputs, labels = data\n",
    "\n",
    "        # zero the parameter gradients\n",
    "        optimizer.zero_grad()\n",
    "\n",
    "        # forward + backward + optimize\n",
    "        outputs = net(inputs)\n",
    "        loss = criterion(outputs, labels)\n",
    "        loss.backward()\n",
    "        optimizer.step()\n",
    "\n",
    "        # print statistics\n",
    "        running_loss += loss.item()\n",
    "        \n",
    "    if epoch % 100 == 0: \n",
    "        print(\"Epoch {}\".format(epoch))\n",
    "\n",
    "        print(running_loss)\n",
    "\n",
    "print('Finished Training')"
   ]
  },
  {
   "cell_type": "code",
   "execution_count": 494,
   "metadata": {},
   "outputs": [
    {
     "data": {
      "image/png": "[encoded data removed]",
      "text/plain": [
       "<Figure size 432x288 with 1 Axes>"
      ]
     },
     "metadata": {
      "needs_background": "light"
     },
     "output_type": "display_data"
    }
   ],
   "source": [
    "# inp = torch.as_tensor(np.eye(len(X))).float()\n",
    "# print(inp)\n",
    "# outputs = net(inp).detach().numpy()\n",
    "\n",
    "outputs = net(torch.as_tensor(X.reshape(len(X), 1)).float()).detach().numpy()\n",
    "\n",
    "plt.plot(X, outputs)\n",
    "# plt.plot(X, Y)\n",
    "\n",
    "plt.show()"
   ]
  },
  {
   "cell_type": "code",
   "execution_count": null,
   "metadata": {},
   "outputs": [],
   "source": []
  }
 ],
 "metadata": {
  "kernelspec": {
   "display_name": "Python 3",
   "language": "python",
   "name": "python3"
  },
  "language_info": {
   "codemirror_mode": {
    "name": "ipython",
    "version": 3
   },
   "file_extension": ".py",
   "mimetype": "text/x-python",
   "name": "python",
   "nbconvert_exporter": "python",
   "pygments_lexer": "ipython3",
   "version": "3.6.9"
  }
 },
 "nbformat": 4,
 "nbformat_minor": 2
}
