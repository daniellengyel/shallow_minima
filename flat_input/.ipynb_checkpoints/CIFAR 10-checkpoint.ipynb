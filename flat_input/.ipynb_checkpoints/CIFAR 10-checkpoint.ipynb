{
 "cells": [
  {
   "cell_type": "code",
   "execution_count": 6,
   "metadata": {},
   "outputs": [
    {
     "name": "stdout",
     "output_type": "stream",
     "text": [
      "Files already downloaded and verified\n",
      "Files already downloaded and verified\n"
     ]
    }
   ],
   "source": [
    "# -*- coding: utf-8 -*-\n",
    "\"\"\"\n",
    "Training a Classifier\n",
    "=====================\n",
    "This is it. You have seen how to define neural networks, compute loss and make\n",
    "updates to the weights of the network.\n",
    "Now you might be thinking,\n",
    "What about data?\n",
    "----------------\n",
    "Generally, when you have to deal with image, text, audio or video data,\n",
    "you can use standard python packages that load data into a numpy array.\n",
    "Then you can convert this array into a ``torch.*Tensor``.\n",
    "-  For images, packages such as Pillow, OpenCV are useful\n",
    "-  For audio, packages such as scipy and librosa\n",
    "-  For text, either raw Python or Cython based loading, or NLTK and\n",
    "   SpaCy are useful\n",
    "Specifically for vision, we have created a package called\n",
    "``torchvision``, that has data loaders for common datasets such as\n",
    "Imagenet, CIFAR10, MNIST, etc. and data transformers for images, viz.,\n",
    "``torchvision.datasets`` and ``torch.utils.data.DataLoader``.\n",
    "This provides a huge convenience and avoids writing boilerplate code.\n",
    "For this tutorial, we will use the CIFAR10 dataset.\n",
    "It has the classes: ‘airplane’, ‘automobile’, ‘bird’, ‘cat’, ‘deer’,\n",
    "‘dog’, ‘frog’, ‘horse’, ‘ship’, ‘truck’. The images in CIFAR-10 are of\n",
    "size 3x32x32, i.e. 3-channel color images of 32x32 pixels in size.\n",
    ".. figure:: /_static/img/cifar10.png\n",
    "   :alt: cifar10\n",
    "   cifar10\n",
    "Training an image classifier\n",
    "----------------------------\n",
    "We will do the following steps in order:\n",
    "1. Load and normalizing the CIFAR10 training and test datasets using\n",
    "   ``torchvision``\n",
    "2. Define a Convolutional Neural Network\n",
    "3. Define a loss function\n",
    "4. Train the network on the training data\n",
    "5. Test the network on the test data\n",
    "1. Loading and normalizing CIFAR10\n",
    "^^^^^^^^^^^^^^^^^^^^^^^^^^^^^^^^^^\n",
    "Using ``torchvision``, it’s extremely easy to load CIFAR10.\n",
    "\"\"\"\n",
    "import torch\n",
    "import torchvision\n",
    "import torchvision.transforms as transforms\n",
    "\n",
    "########################################################################\n",
    "# The output of torchvision datasets are PILImage images of range [0, 1].\n",
    "# We transform them to Tensors of normalized range [-1, 1].\n",
    "# .. note::\n",
    "#     If running on Windows and you get a BrokenPipeError, try setting\n",
    "#     the num_worker of torch.utils.data.DataLoader() to 0.\n",
    "\n",
    "transform = transforms.Compose(\n",
    "    [transforms.ToTensor(),\n",
    "     transforms.Normalize((0.5, 0.5, 0.5), (0.5, 0.5, 0.5))])\n",
    "\n",
    "trainset = torchvision.datasets.CIFAR10(root='./data', train=True,\n",
    "                                        download=True, transform=transform)\n",
    "trainloader = torch.utils.data.DataLoader(trainset, batch_size=4,\n",
    "                                          shuffle=True, num_workers=2)\n",
    "\n",
    "testset = torchvision.datasets.CIFAR10(root='./data', train=False,\n",
    "                                       download=True, transform=transform)\n",
    "testloader = torch.utils.data.DataLoader(testset, batch_size=4,\n",
    "                                         shuffle=False, num_workers=2)\n",
    "\n",
    "classes = ('plane', 'car', 'bird', 'cat',\n",
    "           'deer', 'dog', 'frog', 'horse', 'ship', 'truck')"
   ]
  },
  {
   "cell_type": "code",
   "execution_count": 7,
   "metadata": {},
   "outputs": [
    {
     "data": {
      "image/png": "[encoded data removed]",
      "text/plain": [
       "<Figure size 432x288 with 1 Axes>"
      ]
     },
     "metadata": {
      "needs_background": "light"
     },
     "output_type": "display_data"
    },
    {
     "name": "stdout",
     "output_type": "stream",
     "text": [
      "plane  bird truck  frog\n"
     ]
    }
   ],
   "source": [
    "########################################################################\n",
    "# Let us show some of the training images, for fun.\n",
    "\n",
    "import matplotlib.pyplot as plt\n",
    "import numpy as np\n",
    "\n",
    "# functions to show an image\n",
    "\n",
    "\n",
    "def imshow(img):\n",
    "    img = img / 2 + 0.5     # unnormalize\n",
    "    npimg = img.numpy()\n",
    "    plt.imshow(np.transpose(npimg, (1, 2, 0)))\n",
    "    plt.show()\n",
    "\n",
    "\n",
    "# get some random training images\n",
    "dataiter = iter(trainloader)\n",
    "images, labels = dataiter.next()\n",
    "\n",
    "# show images\n",
    "imshow(torchvision.utils.make_grid(images))\n",
    "# print labels\n",
    "print(' '.join('%5s' % classes[labels[j]] for j in range(4)))"
   ]
  },
  {
   "cell_type": "code",
   "execution_count": 8,
   "metadata": {},
   "outputs": [],
   "source": [
    "########################################################################\n",
    "# 2. Define a Convolutional Neural Network\n",
    "# ^^^^^^^^^^^^^^^^^^^^^^^^^^^^^^^^^^^^^^\n",
    "# Copy the neural network from the Neural Networks section before and modify it to\n",
    "# take 3-channel images (instead of 1-channel images as it was defined).\n",
    "\n",
    "import torch.nn as nn\n",
    "import torch.nn.functional as F\n",
    "\n",
    "\n",
    "class Net(nn.Module):\n",
    "    def __init__(self):\n",
    "        super(Net, self).__init__()\n",
    "        self.conv1 = nn.Conv2d(3, 6, 5)\n",
    "        self.pool = nn.MaxPool2d(2, 2)\n",
    "        self.conv2 = nn.Conv2d(6, 16, 5)\n",
    "        self.fc1 = nn.Linear(16 * 5 * 5, 120)\n",
    "        self.fc2 = nn.Linear(120, 84)\n",
    "        self.fc3 = nn.Linear(84, 10)\n",
    "\n",
    "    def forward(self, x):\n",
    "        x = self.pool(F.relu(self.conv1(x)))\n",
    "        x = self.pool(F.relu(self.conv2(x)))\n",
    "        x = x.view(-1, 16 * 5 * 5)\n",
    "        x = F.relu(self.fc1(x))\n",
    "        x = F.relu(self.fc2(x))\n",
    "        x = self.fc3(x)\n",
    "        return x\n"
   ]
  },
  {
   "cell_type": "markdown",
   "metadata": {},
   "source": [
    "# What to do \n",
    "I would like to have multiple neural netorks which are particles. \n",
    "\n",
    "Can i get the grads with respect to last layer and input\n"
   ]
  },
  {
   "cell_type": "code",
   "execution_count": 9,
   "metadata": {},
   "outputs": [],
   "source": [
    "def sample_index_softmax(weights, positions, beta=1):\n",
    "    probabilities = softmax(weights, beta)\n",
    "    pos_filter = np.random.choice(list(range(len(positions))), len(positions), p=probabilities)\n",
    "    return pos_filter\n",
    "\n",
    "def softmax(weights, beta=1):\n",
    "    sum_exp_weights = sum([np.exp(beta*w) for w in weights])\n",
    "    probabilities = np.array([np.exp(beta*w) for w in weights]) / sum_exp_weights\n",
    "    return probabilities\n",
    "\n",
    "def weight_function(grad, curr_weights):\n",
    "    input_shape = grad.shape # batch, filters, x_dim, y_dim\n",
    "    grad = grad.reshape((input_shape[0], np.product(input_shape[1:]))).T\n",
    "\n",
    "    return curr_weights + np.sum(np.linalg.norm(grad, axis=0))"
   ]
  },
  {
   "cell_type": "code",
   "execution_count": 111,
   "metadata": {},
   "outputs": [],
   "source": [
    "import torch.optim as optim\n",
    "\n",
    "# Get n neural nets and init them\n",
    "\n",
    "num_nets = 1\n",
    "tau = 5000 # num batches before resampling\n",
    "\n",
    "nets = [Net() for _ in range(num_nets)]\n",
    "\n",
    "nets_weights = np.zeros(num_nets)\n",
    "\n",
    "#  Define a Loss function and optimizer\n",
    "criterion = nn.CrossEntropyLoss()\n",
    "optimizers = [optim.SGD(nets[i].parameters(), lr=0.001, momentum=0) for i in range(num_nets)]"
   ]
  },
  {
   "cell_type": "code",
   "execution_count": null,
   "metadata": {
    "scrolled": true
   },
   "outputs": [
    {
     "name": "stdout",
     "output_type": "stream",
     "text": [
      "[1,  1000] loss: 1.690\n",
      "[1,  2000] loss: 1.687\n",
      "[1,  3000] loss: 1.678\n",
      "[1,  4000] loss: 1.675\n",
      "[1,  5000] loss: 1.671\n",
      "[1,  6000] loss: 10.002\n",
      "[1,  7000] loss: 5.821\n",
      "[1,  8000] loss: 4.418\n"
     ]
    }
   ],
   "source": [
    "import copy\n",
    "\n",
    "########################################################################\n",
    "# 4. Train the network\n",
    "# ^^^^^^^^^^^^^^^^^^^^\n",
    "#\n",
    "# This is when things start to get interesting.\n",
    "# We simply have to loop over our data iterator, and feed the inputs to the\n",
    "# network and optimize.\n",
    "\n",
    "for epoch in range(5):  # loop over the dataset multiple times\n",
    "    \n",
    "    running_losses = np.zeros(num_nets)\n",
    "    for i, data in enumerate(trainloader, 0):\n",
    "        # get the inputs; data is a list of [inputs, labels]\n",
    "        inputs, labels = data\n",
    "        \n",
    "        # cycle neural net\n",
    "        curr_nn_idx = i % len(nets)\n",
    "        net = nets[curr_nn_idx]\n",
    "        optimizer = optimizers[curr_nn_idx]\n",
    "        \n",
    "        # Compute gradients for input. \n",
    "        inputs.requires_grad = True\n",
    "\n",
    "        # zero the parameter gradients\n",
    "        optimizer.zero_grad()\n",
    "\n",
    "        # forward + backward + optimize\n",
    "        outputs = net(inputs)\n",
    "        loss = criterion(outputs, labels)\n",
    "        loss.backward()\n",
    "        optimizer.step()\n",
    "        \n",
    "        # update weights\n",
    "        nets_weights = weight_function(inputs.grad, nets_weights)\n",
    "\n",
    "        # update statistics\n",
    "        running_losses[curr_nn_idx] += loss.item()\n",
    "        \n",
    "        if i % (1000) == (999):\n",
    "                for n_i in range(num_nets):\n",
    "                    print('[%d, %5d] loss: %.3f' %\n",
    "                          (epoch + 1, i + 1, running_losses[n_i]/float(i % tau)))\n",
    "#                     running_losses[n_i] = 0.0\n",
    "            \n",
    "#         # resample particles\n",
    "#         if i % tau == (tau - 1):\n",
    "#             sampled_idx = sample_index_softmax(nets_weights, nets, beta=0.01)\n",
    "#             # init nets etc\n",
    "# #             nets = [copy.deepcopy(nets[i]) for i in sampled_idx]\n",
    "# #             optimizers = [optim.SGD(nets[i].parameters(), lr=0.001, momentum=0) for i in range(num_nets)]\n",
    "# #             nets_weights = np.zeros(num_nets)\n",
    "            \n",
    "#             # print statistics \n",
    "#             if i % (2*tau) == (2*tau - 1):\n",
    "#                 for n_i in range(num_nets):\n",
    "#                     print('[%d, %5d] loss: %.3f' %\n",
    "#                           (epoch + 1, i + 1, running_losses[n_i]/float(2*tau)))\n",
    "#                     running_losses[n_i] = 0.0\n",
    "            \n",
    "        \n",
    "        \n",
    "\n",
    "print('Finished Training')\n",
    "\n",
    "########################################################################\n",
    "# Let's quickly save our trained model:\n",
    "\n",
    "# PATH = './cifar_net.pth'\n",
    "# torch.save(net.state_dict(), PATH)"
   ]
  },
  {
   "cell_type": "code",
   "execution_count": 95,
   "metadata": {},
   "outputs": [],
   "source": [
    "from scipy import stats\n",
    "\n",
    "def mode_prediction(nets, input_data):\n",
    "    predictions = []\n",
    "    for net in nets:\n",
    "        outputs = net(input_data)\n",
    "        _, p = torch.max(outputs, 1)\n",
    "        predictions.append(p.numpy())\n",
    "            \n",
    "    predicted, _ = stats.mode(predictions, axis=0)\n",
    "    \n",
    "    return predicted[0]"
   ]
  },
  {
   "cell_type": "code",
   "execution_count": 98,
   "metadata": {},
   "outputs": [
    {
     "name": "stdout",
     "output_type": "stream",
     "text": [
      "[3 8 8 8]\n",
      "Predicted:    cat  ship  ship  ship\n"
     ]
    }
   ],
   "source": [
    "predicted = mode_prediction(nets, images)\n",
    "print(predicted)\n",
    "\n",
    "print('Predicted: ', ' '.join('%5s' % classes[predicted[j]]\n",
    "                              for j in range(4)))"
   ]
  },
  {
   "cell_type": "code",
   "execution_count": 97,
   "metadata": {},
   "outputs": [
    {
     "data": {
      "image/png": "[encoded data removed]",
      "text/plain": [
       "<Figure size 432x288 with 1 Axes>"
      ]
     },
     "metadata": {
      "needs_background": "light"
     },
     "output_type": "display_data"
    },
    {
     "name": "stdout",
     "output_type": "stream",
     "text": [
      "GroundTruth:    cat  ship  ship plane\n"
     ]
    }
   ],
   "source": [
    "########################################################################\n",
    "# See `here <https://pytorch.org/docs/stable/notes/serialization.html>`_\n",
    "# for more details on saving PyTorch models.\n",
    "#\n",
    "# 5. Test the network on the test data\n",
    "# ^^^^^^^^^^^^^^^^^^^^^^^^^^^^^^^^^^^^\n",
    "#\n",
    "# We have trained the network for 2 passes over the training dataset.\n",
    "# But we need to check if the network has learnt anything at all.\n",
    "#\n",
    "# We will check this by predicting the class label that the neural network\n",
    "# outputs, and checking it against the ground-truth. If the prediction is\n",
    "# correct, we add the sample to the list of correct predictions.\n",
    "#\n",
    "# Okay, first step. Let us display an image from the test set to get familiar.\n",
    "\n",
    "dataiter = iter(testloader)\n",
    "images, labels = dataiter.next()\n",
    "\n",
    "# print images\n",
    "imshow(torchvision.utils.make_grid(images))\n",
    "print('GroundTruth: ', ' '.join('%5s' % classes[labels[j]] for j in range(4)))\n",
    "\n",
    "########################################################################\n",
    "# Next, let's load back in our saved model (note: saving and re-loading the model\n",
    "# wasn't necessary here, we only did it to illustrate how to do so):\n",
    "\n",
    "# net = Net()\n",
    "# net.load_state_dict(torch.load(PATH))\n",
    "\n",
    "# ########################################################################\n",
    "# # Okay, now let us see what the neural network thinks these examples above are:\n",
    "\n",
    "# outputs = net(images)\n",
    "\n",
    "# ########################################################################\n",
    "# # The outputs are energies for the 10 classes.\n",
    "# # The higher the energy for a class, the more the network\n",
    "# # thinks that the image is of the particular class.\n",
    "# # So, let's get the index of the highest energy:\n",
    "# _, predicted = torch.max(outputs, 1)\n",
    "\n",
    "# print('Predicted: ', ' '.join('%5s' % classes[predicted[j]]\n",
    "#                               for j in range(4)))"
   ]
  },
  {
   "cell_type": "code",
   "execution_count": 99,
   "metadata": {},
   "outputs": [
    {
     "name": "stdout",
     "output_type": "stream",
     "text": [
      "Accuracy of the network on the 10000 test images: 36 %\n",
      "Accuracy of plane : 53 %\n",
      "Accuracy of   car : 62 %\n",
      "Accuracy of  bird : 23 %\n",
      "Accuracy of   cat : 13 %\n",
      "Accuracy of  deer : 16 %\n",
      "Accuracy of   dog : 29 %\n",
      "Accuracy of  frog : 47 %\n",
      "Accuracy of horse : 42 %\n",
      "Accuracy of  ship : 39 %\n",
      "Accuracy of truck : 34 %\n"
     ]
    }
   ],
   "source": [
    "########################################################################\n",
    "# The results seem pretty good.\n",
    "#\n",
    "# Let us look at how the network performs on the whole dataset.\n",
    "\n",
    "correct = 0\n",
    "total = 0\n",
    "with torch.no_grad():\n",
    "    for data in testloader:\n",
    "        images, labels = data\n",
    "        outputs = net(images)\n",
    "        _, predicted = torch.max(outputs.data, 1)\n",
    "        total += labels.size(0)\n",
    "        correct += (predicted == labels).sum().item()\n",
    "\n",
    "print('Accuracy of the network on the 10000 test images: %d %%' % (\n",
    "    100 * correct / total))\n",
    "\n",
    "########################################################################\n",
    "# That looks way better than chance, which is 10% accuracy (randomly picking\n",
    "# a class out of 10 classes).\n",
    "# Seems like the network learnt something.\n",
    "#\n",
    "# Hmmm, what are the classes that performed well, and the classes that did\n",
    "# not perform well:\n",
    "\n",
    "class_correct = list(0. for i in range(10))\n",
    "class_total = list(0. for i in range(10))\n",
    "with torch.no_grad():\n",
    "    for data in testloader:\n",
    "        images, labels = data\n",
    "        outputs = net(images)\n",
    "        _, predicted = torch.max(outputs, 1)\n",
    "        c = (predicted == labels).squeeze()\n",
    "        for i in range(4):\n",
    "            label = labels[i]\n",
    "            class_correct[label] += c[i].item()\n",
    "            class_total[label] += 1\n",
    "\n",
    "\n",
    "for i in range(10):\n",
    "    print('Accuracy of %5s : %2d %%' % (\n",
    "        classes[i], 100 * class_correct[i] / class_total[i]))"
   ]
  },
  {
   "cell_type": "code",
   "execution_count": null,
   "metadata": {},
   "outputs": [],
   "source": []
  }
 ],
 "metadata": {
  "kernelspec": {
   "display_name": "Python 3",
   "language": "python",
   "name": "python3"
  },
  "language_info": {
   "codemirror_mode": {
    "name": "ipython",
    "version": 3
   },
   "file_extension": ".py",
   "mimetype": "text/x-python",
   "name": "python",
   "nbconvert_exporter": "python",
   "pygments_lexer": "ipython3",
   "version": "3.6.9"
  }
 },
 "nbformat": 4,
 "nbformat_minor": 2
}
