{
 "cells": [
  {
   "cell_type": "code",
   "execution_count": 2,
   "metadata": {},
   "outputs": [],
   "source": [
    "import numpy as np\n",
    "import matplotlib.pyplot as plt\n",
    "%matplotlib inline\n",
    "import torch\n",
    "import torchvision\n",
    "\n",
    "from utils import *\n",
    "from mnist_train import *\n",
    "\n",
    "%load_ext autoreload\n",
    "%autoreload 2"
   ]
  },
  {
   "cell_type": "markdown",
   "metadata": {},
   "source": [
    "# Get MNIST"
   ]
  },
  {
   "cell_type": "code",
   "execution_count": 3,
   "metadata": {},
   "outputs": [],
   "source": [
    "config = {\n",
    "    \"torch_random_seed\": 1, \n",
    "    \"batch_size\": {\"train_size\": 64, \"test_size\": 1000},\n",
    "    \n",
    "    \"num_epochs\":  5, \n",
    "    \n",
    "    \"SGD_params\": {\"learning_rate\": 0.01, \"momentum\": 0.9},\n",
    "    \"num_nets\": 100, # would like to make it like other one, where we can define region to initialize\n",
    "    \"ess_threshold\": 0.7, # resample if kish less than this\n",
    "    \n",
    "    \"softmax_beta\": -40, # negtive to prioritize low weights\n",
    "    \n",
    "    \"weight_type\": \"input_output_forbenius\",\n",
    "    \n",
    "}"
   ]
  },
  {
   "cell_type": "code",
   "execution_count": 5,
   "metadata": {},
   "outputs": [
    {
     "data": {
      "text/plain": [
       "0.017810762133404306"
      ]
     },
     "execution_count": 5,
     "metadata": {},
     "output_type": "execute_result"
    }
   ],
   "source": [
    "nets = [LeNet() for _ in range(10)]\n",
    "np.trace(get_params_var(nets))"
   ]
  },
  {
   "cell_type": "markdown",
   "metadata": {},
   "source": [
    "## Try to do the example panos was talking about (x_i' - x_i)(x_j' - x_j) etc. "
   ]
  },
  {
   "cell_type": "markdown",
   "metadata": {},
   "source": [
    "# Training Loop "
   ]
  },
  {
   "cell_type": "code",
   "execution_count": null,
   "metadata": {},
   "outputs": [
    {
     "name": "stdout",
     "output_type": "stream",
     "text": [
      "[0.01053224 0.00975867 0.01116669 0.00973953 0.00826456 0.01090396\n",
      " 0.01011831 0.00974902 0.00990716 0.00931369 0.00997778 0.01044845\n",
      " 0.01033252 0.01081826 0.0105724  0.01036006 0.0101383  0.0091444\n",
      " 0.01024617 0.0112306  0.01026564 0.01003318 0.0095296  0.00960403\n",
      " 0.01006902 0.00704901 0.0109745  0.01109889 0.00791124 0.01145235\n",
      " 0.01012473 0.01016725 0.01049005 0.01011636 0.01051401 0.00927377\n",
      " 0.0108672  0.01084094 0.01178717 0.01065306 0.01043383 0.01024988\n",
      " 0.00840764 0.00947509 0.00977598 0.01090479 0.00935128 0.0089157\n",
      " 0.01127877 0.01047739 0.00917386 0.00936028 0.01081191 0.00981062\n",
      " 0.0101532  0.00974496 0.01038869 0.00940679 0.01125763 0.01030572\n",
      " 0.01096901 0.00890154 0.00942527 0.01067893 0.01011969 0.00995963\n",
      " 0.00809451 0.01041337 0.010134   0.00869272 0.01034806 0.00924327\n",
      " 0.01107707 0.00872556 0.01238921 0.00976077 0.00912205 0.00976036\n",
      " 0.01043366 0.01014795 0.01023168 0.0112637  0.0087274  0.00902489\n",
      " 0.00964113 0.0107224  0.01074082 0.01060667 0.00867842 0.00919884\n",
      " 0.01107147 0.00930402 0.0094567  0.00865776 0.01005942 0.01028782\n",
      " 0.01055666 0.01060751 0.00762773 0.00990962]\n"
     ]
    }
   ],
   "source": [
    "train(config)"
   ]
  },
  {
   "cell_type": "code",
   "execution_count": null,
   "metadata": {},
   "outputs": [],
   "source": [
    "img1 = images[2]\n",
    "img2 = images[4]\n",
    "img3 = images[11]\n",
    "\n",
    "label1 = float(labels[0].detach().numpy())\n",
    "label2 = float(labels[1].detach().numpy())\n",
    "label3 = float(labels[2].detach().numpy())\n",
    "\n",
    "# v1, v2 = get_orthogonal_basis(img1, img2, img3)\n",
    "\n",
    "v1 = vh[0] #_random_vector(img1.shape[1] * img1.shape[2], 1)[0]\n",
    "v2 = vh[1] #_random_vector(img1.shape[1] * img1.shape[2], 1)[0]\n",
    "\n",
    "\n",
    "# Get max/min alpha (v1) and beta (v2) \n",
    "alpha_bound = 500#15*abs(v1.dot(get_vec(img2) - get_vec(img1)))\n",
    "beta_bound = 500 #15*abs(v2.dot(get_vec(img3) - get_vec(img1)))\n",
    "\n",
    "X, Y, results, v1, v2 = classification_regions_2d(v1, v2, img1, -alpha_bound, alpha_bound, -beta_bound, beta_bound, 1000, nets[0])\n"
   ]
  },
  {
   "cell_type": "code",
   "execution_count": null,
   "metadata": {},
   "outputs": [],
   "source": [
    "img1_vec = get_vec(img1)\n",
    "img2_vec = get_vec(img2)\n",
    "img3_vec = get_vec(img3)\n",
    "\n",
    "a1 = 0\n",
    "b1 = 0\n",
    "\n",
    "a2 = v1.dot(img2_vec - img1_vec)\n",
    "b2 = v2.dot(img2_vec - img1_vec)\n",
    "\n",
    "a3 = v1.dot(img3_vec - img1_vec)\n",
    "b3 = v2.dot(img3_vec - img1_vec)\n",
    "\n"
   ]
  },
  {
   "cell_type": "code",
   "execution_count": null,
   "metadata": {},
   "outputs": [],
   "source": [
    "import plotly.graph_objects as go\n",
    "\n",
    "fig = go.Figure(data=[\n",
    "            go.Heatmap(x = X, y=Y,\n",
    "                    z=results,),\n",
    "\n",
    "            go.Scatter(x=[a1], y=[b1], mode='markers', marker=dict(\n",
    "                                                    color='LightSkyBlue',\n",
    "                                                    size=20,\n",
    "                                                    line=dict(\n",
    "                                                        color='MediumPurple',\n",
    "                                                        width=2\n",
    "                                                    )\n",
    "                                                )),\n",
    "                        go.Scatter(x=[a2], y=[b2], mode='markers', marker=dict(\n",
    "            color='LightSkyBlue',\n",
    "            size=20,\n",
    "            line=dict(\n",
    "                color='MediumPurple',\n",
    "                width=2\n",
    "            )\n",
    "        )),\n",
    "                        go.Scatter(x=[a3], y=[b3], mode='markers', marker=dict(\n",
    "            color='LightSkyBlue',\n",
    "            size=20,\n",
    "            line=dict(\n",
    "                color='MediumPurple',\n",
    "                width=2\n",
    "            )\n",
    "        ))\n",
    "\n",
    "                     \n",
    "                     ])\n",
    "\n",
    "\n",
    "fig.show()"
   ]
  },
  {
   "cell_type": "code",
   "execution_count": 219,
   "metadata": {},
   "outputs": [
    {
     "name": "stderr",
     "output_type": "stream",
     "text": [
      "Clipping input data to the valid range for imshow with RGB data ([0..1] for floats or [0..255] for integers).\n"
     ]
    },
    {
     "data": {
      "image/png": "[encoded data removed]",
      "text/plain": [
       "<Figure size 432x288 with 1 Axes>"
      ]
     },
     "metadata": {
      "needs_background": "light"
     },
     "output_type": "display_data"
    }
   ],
   "source": [
    "v1_img = v1.reshape(img1.shape[1:])\n",
    "v2_img = v2.reshape(img2.shape[1:])\n",
    "\n",
    "tmp = img1 + v1_img * 170 + -70 * v2_img\n",
    "\n",
    "imshow(torchvision.utils.make_grid(tmp))\n"
   ]
  },
  {
   "cell_type": "markdown",
   "metadata": {},
   "source": [
    "# Some analysis"
   ]
  },
  {
   "cell_type": "code",
   "execution_count": null,
   "metadata": {},
   "outputs": [],
   "source": [
    "# Would like a grouped set by label. \n",
    "\n",
    "# For each label, calculate all directions with one reference (can get all others from this set. )"
   ]
  },
  {
   "cell_type": "code",
   "execution_count": 256,
   "metadata": {},
   "outputs": [],
   "source": [
    "train_loader = torch.utils.data.DataLoader(\n",
    "  torchvision.datasets.MNIST('./data/', train=True, download=True,\n",
    "                             transform=torchvision.transforms.Compose([\n",
    "                               torchvision.transforms.ToTensor(),\n",
    "                               torchvision.transforms.Normalize(\n",
    "                                 (0.1307,), (0.3081,))\n",
    "                             ])),\n",
    "  batch_size=1, shuffle=False)\n",
    "\n",
    "full_data = list(train_loader)\n",
    "\n",
    "idx = {i: [] for i in range(10)}\n",
    "for i, data in enumerate(full_data, 0):\n",
    "    # get the inputs; data is a list of [inputs, labels]\n",
    "    inputs, labels = data\n",
    "    label = labels.reshape(len(labels)).long()\n",
    "    idx[int(label[0])].append(i)"
   ]
  },
  {
   "cell_type": "code",
   "execution_count": 257,
   "metadata": {},
   "outputs": [],
   "source": [
    "label = 0\n",
    "\n",
    "data = np.array([full_data[i][0].detach().numpy() for i in idx[label]])\n",
    "data = data.reshape(data.shape[0], data.shape[3] * data.shape[4])"
   ]
  },
  {
   "cell_type": "code",
   "execution_count": 259,
   "metadata": {},
   "outputs": [
    {
     "name": "stdout",
     "output_type": "stream",
     "text": [
      "640\n"
     ]
    }
   ],
   "source": [
    "a = data - data[0]\n",
    "b = a.dot(a.T)\n",
    "print(np.argmin(np.diag(b[1:])))"
   ]
  },
  {
   "cell_type": "code",
   "execution_count": 260,
   "metadata": {},
   "outputs": [
    {
     "name": "stderr",
     "output_type": "stream",
     "text": [
      "Clipping input data to the valid range for imshow with RGB data ([0..1] for floats or [0..255] for integers).\n"
     ]
    },
    {
     "data": {
      "image/png": "[encoded data removed]",
      "text/plain": [
       "<Figure size 432x288 with 1 Axes>"
      ]
     },
     "metadata": {
      "needs_background": "light"
     },
     "output_type": "display_data"
    },
    {
     "name": "stderr",
     "output_type": "stream",
     "text": [
      "Clipping input data to the valid range for imshow with RGB data ([0..1] for floats or [0..255] for integers).\n"
     ]
    },
    {
     "data": {
      "image/png": "[encoded data removed]",
      "text/plain": [
       "<Figure size 432x288 with 1 Axes>"
      ]
     },
     "metadata": {
      "needs_background": "light"
     },
     "output_type": "display_data"
    }
   ],
   "source": [
    "imshow(torchvision.utils.make_grid(torch.Tensor(data[640].reshape(1, 1, 28, 28))))\n",
    "imshow(torchvision.utils.make_grid(torch.Tensor(data[0].reshape(1, 1, 28, 28))))"
   ]
  },
  {
   "cell_type": "code",
   "execution_count": 222,
   "metadata": {},
   "outputs": [],
   "source": [
    "label = 9\n",
    "\n",
    "data = np.array([full_data[i][0].detach().numpy() for i in idx[label]])\n",
    "data = data.reshape(data.shape[0], data.shape[3] * data.shape[4])"
   ]
  },
  {
   "cell_type": "code",
   "execution_count": 221,
   "metadata": {},
   "outputs": [],
   "source": [
    "zero_origin = data[0]\n",
    "zero_far = data[4077]"
   ]
  },
  {
   "cell_type": "code",
   "execution_count": 223,
   "metadata": {},
   "outputs": [],
   "source": [
    "nine_origin = data[0]"
   ]
  },
  {
   "cell_type": "code",
   "execution_count": 215,
   "metadata": {},
   "outputs": [
    {
     "data": {
      "text/plain": [
       "1132.2532868853305"
      ]
     },
     "execution_count": 215,
     "metadata": {},
     "output_type": "execute_result"
    }
   ],
   "source": [
    "np.linalg.norm(f - data[0])**2 "
   ]
  },
  {
   "cell_type": "code",
   "execution_count": 225,
   "metadata": {},
   "outputs": [
    {
     "data": {
      "text/plain": [
       "0.26271469985114826"
      ]
     },
     "execution_count": 225,
     "metadata": {},
     "output_type": "execute_result"
    }
   ],
   "source": [
    "zz = zero_origin - zero_far\n",
    "zn = zero_origin - nine_origin\n",
    "\n",
    "zz.dot(zn) * (1./(np.linalg.norm(zz) * np.linalg.norm(zn)))"
   ]
  },
  {
   "cell_type": "code",
   "execution_count": 226,
   "metadata": {},
   "outputs": [
    {
     "name": "stdout",
     "output_type": "stream",
     "text": [
      "43.16456\n",
      "33.64897\n"
     ]
    }
   ],
   "source": [
    "print(np.linalg.norm(zz) )\n",
    "print(np.linalg.norm(zn) )"
   ]
  },
  {
   "cell_type": "code",
   "execution_count": 227,
   "metadata": {},
   "outputs": [
    {
     "data": {
      "text/plain": [
       "47.24697"
      ]
     },
     "execution_count": 227,
     "metadata": {},
     "output_type": "execute_result"
    }
   ],
   "source": [
    "np.linalg.norm(zero_far - nine_origin)"
   ]
  },
  {
   "cell_type": "code",
   "execution_count": 229,
   "metadata": {},
   "outputs": [],
   "source": [
    "u, s, vh = np.linalg.svd(data[0] - data, full_matrices=True)"
   ]
  },
  {
   "cell_type": "code",
   "execution_count": 233,
   "metadata": {},
   "outputs": [
    {
     "data": {
      "text/plain": [
       "(784,)"
      ]
     },
     "execution_count": 233,
     "metadata": {},
     "output_type": "execute_result"
    }
   ],
   "source": [
    "vh[0].shape"
   ]
  },
  {
   "cell_type": "code",
   "execution_count": null,
   "metadata": {},
   "outputs": [],
   "source": []
  },
  {
   "cell_type": "code",
   "execution_count": 2,
   "metadata": {},
   "outputs": [
    {
     "ename": "NameError",
     "evalue": "name 'train_loader' is not defined",
     "output_type": "error",
     "traceback": [
      "\u001b[0;31m---------------------------------------------------------------------------\u001b[0m",
      "\u001b[0;31mNameError\u001b[0m                                 Traceback (most recent call last)",
      "\u001b[0;32m<ipython-input-2-c7591a7f76ee>\u001b[0m in \u001b[0;36m<module>\u001b[0;34m\u001b[0m\n\u001b[1;32m      1\u001b[0m \u001b[0;31m# get some random training images\u001b[0m\u001b[0;34m\u001b[0m\u001b[0;34m\u001b[0m\u001b[0;34m\u001b[0m\u001b[0m\n\u001b[0;32m----> 2\u001b[0;31m \u001b[0mdataiter\u001b[0m \u001b[0;34m=\u001b[0m \u001b[0miter\u001b[0m\u001b[0;34m(\u001b[0m\u001b[0mtrain_loader\u001b[0m\u001b[0;34m)\u001b[0m\u001b[0;34m\u001b[0m\u001b[0;34m\u001b[0m\u001b[0m\n\u001b[0m\u001b[1;32m      3\u001b[0m \u001b[0mimages\u001b[0m\u001b[0;34m,\u001b[0m \u001b[0mlabels\u001b[0m \u001b[0;34m=\u001b[0m \u001b[0mdataiter\u001b[0m\u001b[0;34m.\u001b[0m\u001b[0mnext\u001b[0m\u001b[0;34m(\u001b[0m\u001b[0;34m)\u001b[0m\u001b[0;34m\u001b[0m\u001b[0;34m\u001b[0m\u001b[0m\n\u001b[1;32m      4\u001b[0m \u001b[0;34m\u001b[0m\u001b[0m\n\u001b[1;32m      5\u001b[0m \u001b[0;31m# show images\u001b[0m\u001b[0;34m\u001b[0m\u001b[0;34m\u001b[0m\u001b[0;34m\u001b[0m\u001b[0m\n",
      "\u001b[0;31mNameError\u001b[0m: name 'train_loader' is not defined"
     ]
    }
   ],
   "source": [
    "# get some random training images\n",
    "dataiter = iter(train_loader)\n",
    "images, labels = dataiter.next()\n",
    "\n",
    "# show images\n",
    "imshow(torchvision.utils.make_grid(images))\n",
    "# print labels\n",
    "print(' '.join('%5s' % int(labels[j]) for j in range(64)))"
   ]
  }
 ],
 "metadata": {
  "kernelspec": {
   "display_name": "Python 3",
   "language": "python",
   "name": "python3"
  },
  "language_info": {
   "codemirror_mode": {
    "name": "ipython",
    "version": 3
   },
   "file_extension": ".py",
   "mimetype": "text/x-python",
   "name": "python",
   "nbconvert_exporter": "python",
   "pygments_lexer": "ipython3",
   "version": "3.6.9"
  }
 },
 "nbformat": 4,
 "nbformat_minor": 2
}
