{
 "cells": [
  {
   "cell_type": "code",
   "execution_count": null,
   "metadata": {},
   "outputs": [],
   "source": [
    "import numpy as np\n",
    "import matplotlib.pyplot as plt\n",
    "%matplotlib inline\n",
    "import torch\n",
    "import torchvision\n",
    "\n",
    "from utils import *\n",
    "from gaussian_training import *\n",
    "\n",
    "from experiments.dataloaders import *\n",
    "\n",
    "%load_ext autoreload\n",
    "%autoreload 2"
   ]
  },
  {
   "cell_type": "code",
   "execution_count": 4,
   "metadata": {},
   "outputs": [
    {
     "ename": "ImportError",
     "evalue": "ray.tune in ray > 0.7.5 requires 'tabulate'. Please re-run 'pip install ray[tune]' or 'pip install ray[rllib]'.",
     "output_type": "error",
     "traceback": [
      "\u001b[0;31m---------------------------------------------------------------------------\u001b[0m",
      "\u001b[0;31mModuleNotFoundError\u001b[0m                       Traceback (most recent call last)",
      "\u001b[0;32m/usr/local/lib/python3.7/site-packages/ray/tune/progress_reporter.py\u001b[0m in \u001b[0;36m<module>\u001b[0;34m\u001b[0m\n\u001b[1;32m     11\u001b[0m \u001b[0;32mtry\u001b[0m\u001b[0;34m:\u001b[0m\u001b[0;34m\u001b[0m\u001b[0;34m\u001b[0m\u001b[0m\n\u001b[0;32m---> 12\u001b[0;31m     \u001b[0;32mfrom\u001b[0m \u001b[0mtabulate\u001b[0m \u001b[0;32mimport\u001b[0m \u001b[0mtabulate\u001b[0m\u001b[0;34m\u001b[0m\u001b[0;34m\u001b[0m\u001b[0m\n\u001b[0m\u001b[1;32m     13\u001b[0m \u001b[0;32mexcept\u001b[0m \u001b[0mImportError\u001b[0m\u001b[0;34m:\u001b[0m\u001b[0;34m\u001b[0m\u001b[0;34m\u001b[0m\u001b[0m\n",
      "\u001b[0;31mModuleNotFoundError\u001b[0m: No module named 'tabulate'",
      "\nDuring handling of the above exception, another exception occurred:\n",
      "\u001b[0;31mImportError\u001b[0m                               Traceback (most recent call last)",
      "\u001b[0;32m<ipython-input-4-4384eba11eb4>\u001b[0m in \u001b[0;36m<module>\u001b[0;34m\u001b[0m\n\u001b[0;32m----> 1\u001b[0;31m \u001b[0;32mfrom\u001b[0m \u001b[0mray\u001b[0m \u001b[0;32mimport\u001b[0m \u001b[0mtune\u001b[0m\u001b[0;34m\u001b[0m\u001b[0;34m\u001b[0m\u001b[0m\n\u001b[0m",
      "\u001b[0;32m/usr/local/lib/python3.7/site-packages/ray/tune/__init__.py\u001b[0m in \u001b[0;36m<module>\u001b[0;34m\u001b[0m\n\u001b[1;32m      1\u001b[0m \u001b[0;32mfrom\u001b[0m \u001b[0mray\u001b[0m\u001b[0;34m.\u001b[0m\u001b[0mtune\u001b[0m\u001b[0;34m.\u001b[0m\u001b[0merror\u001b[0m \u001b[0;32mimport\u001b[0m \u001b[0mTuneError\u001b[0m\u001b[0;34m\u001b[0m\u001b[0;34m\u001b[0m\u001b[0m\n\u001b[0;32m----> 2\u001b[0;31m \u001b[0;32mfrom\u001b[0m \u001b[0mray\u001b[0m\u001b[0;34m.\u001b[0m\u001b[0mtune\u001b[0m\u001b[0;34m.\u001b[0m\u001b[0mtune\u001b[0m \u001b[0;32mimport\u001b[0m \u001b[0mrun_experiments\u001b[0m\u001b[0;34m,\u001b[0m \u001b[0mrun\u001b[0m\u001b[0;34m\u001b[0m\u001b[0;34m\u001b[0m\u001b[0m\n\u001b[0m\u001b[1;32m      3\u001b[0m \u001b[0;32mfrom\u001b[0m \u001b[0mray\u001b[0m\u001b[0;34m.\u001b[0m\u001b[0mtune\u001b[0m\u001b[0;34m.\u001b[0m\u001b[0mexperiment\u001b[0m \u001b[0;32mimport\u001b[0m \u001b[0mExperiment\u001b[0m\u001b[0;34m\u001b[0m\u001b[0;34m\u001b[0m\u001b[0m\n\u001b[1;32m      4\u001b[0m \u001b[0;32mfrom\u001b[0m \u001b[0mray\u001b[0m\u001b[0;34m.\u001b[0m\u001b[0mtune\u001b[0m\u001b[0;34m.\u001b[0m\u001b[0manalysis\u001b[0m \u001b[0;32mimport\u001b[0m \u001b[0mExperimentAnalysis\u001b[0m\u001b[0;34m,\u001b[0m \u001b[0mAnalysis\u001b[0m\u001b[0;34m\u001b[0m\u001b[0;34m\u001b[0m\u001b[0m\n\u001b[1;32m      5\u001b[0m \u001b[0;32mfrom\u001b[0m \u001b[0mray\u001b[0m\u001b[0;34m.\u001b[0m\u001b[0mtune\u001b[0m\u001b[0;34m.\u001b[0m\u001b[0mstopper\u001b[0m \u001b[0;32mimport\u001b[0m \u001b[0mStopper\u001b[0m\u001b[0;34m\u001b[0m\u001b[0;34m\u001b[0m\u001b[0m\n",
      "\u001b[0;32m/usr/local/lib/python3.7/site-packages/ray/tune/tune.py\u001b[0m in \u001b[0;36m<module>\u001b[0;34m\u001b[0m\n\u001b[1;32m     11\u001b[0m \u001b[0;32mfrom\u001b[0m \u001b[0mray\u001b[0m\u001b[0;34m.\u001b[0m\u001b[0mtune\u001b[0m\u001b[0;34m.\u001b[0m\u001b[0mregistry\u001b[0m \u001b[0;32mimport\u001b[0m \u001b[0mget_trainable_cls\u001b[0m\u001b[0;34m\u001b[0m\u001b[0;34m\u001b[0m\u001b[0m\n\u001b[1;32m     12\u001b[0m \u001b[0;32mfrom\u001b[0m \u001b[0mray\u001b[0m\u001b[0;34m.\u001b[0m\u001b[0mtune\u001b[0m\u001b[0;34m.\u001b[0m\u001b[0msyncer\u001b[0m \u001b[0;32mimport\u001b[0m \u001b[0mwait_for_sync\u001b[0m\u001b[0;34m\u001b[0m\u001b[0;34m\u001b[0m\u001b[0m\n\u001b[0;32m---> 13\u001b[0;31m \u001b[0;32mfrom\u001b[0m \u001b[0mray\u001b[0m\u001b[0;34m.\u001b[0m\u001b[0mtune\u001b[0m\u001b[0;34m.\u001b[0m\u001b[0mtrial_runner\u001b[0m \u001b[0;32mimport\u001b[0m \u001b[0mTrialRunner\u001b[0m\u001b[0;34m\u001b[0m\u001b[0;34m\u001b[0m\u001b[0m\n\u001b[0m\u001b[1;32m     14\u001b[0m \u001b[0;32mfrom\u001b[0m \u001b[0mray\u001b[0m\u001b[0;34m.\u001b[0m\u001b[0mtune\u001b[0m\u001b[0;34m.\u001b[0m\u001b[0mprogress_reporter\u001b[0m \u001b[0;32mimport\u001b[0m \u001b[0mCLIReporter\u001b[0m\u001b[0;34m,\u001b[0m \u001b[0mJupyterNotebookReporter\u001b[0m\u001b[0;34m\u001b[0m\u001b[0;34m\u001b[0m\u001b[0m\n\u001b[1;32m     15\u001b[0m from ray.tune.schedulers import (HyperBandScheduler, AsyncHyperBandScheduler,\n",
      "\u001b[0;32m/usr/local/lib/python3.7/site-packages/ray/tune/trial_runner.py\u001b[0m in \u001b[0;36m<module>\u001b[0;34m\u001b[0m\n\u001b[1;32m     11\u001b[0m \u001b[0;32mfrom\u001b[0m \u001b[0mray\u001b[0m\u001b[0;34m.\u001b[0m\u001b[0mtune\u001b[0m \u001b[0;32mimport\u001b[0m \u001b[0mTuneError\u001b[0m\u001b[0;34m\u001b[0m\u001b[0;34m\u001b[0m\u001b[0m\n\u001b[1;32m     12\u001b[0m \u001b[0;32mfrom\u001b[0m \u001b[0mray\u001b[0m\u001b[0;34m.\u001b[0m\u001b[0mtune\u001b[0m\u001b[0;34m.\u001b[0m\u001b[0mstopper\u001b[0m \u001b[0;32mimport\u001b[0m \u001b[0mNoopStopper\u001b[0m\u001b[0;34m\u001b[0m\u001b[0;34m\u001b[0m\u001b[0m\n\u001b[0;32m---> 13\u001b[0;31m \u001b[0;32mfrom\u001b[0m \u001b[0mray\u001b[0m\u001b[0;34m.\u001b[0m\u001b[0mtune\u001b[0m\u001b[0;34m.\u001b[0m\u001b[0mprogress_reporter\u001b[0m \u001b[0;32mimport\u001b[0m \u001b[0mtrial_progress_str\u001b[0m\u001b[0;34m\u001b[0m\u001b[0;34m\u001b[0m\u001b[0m\n\u001b[0m\u001b[1;32m     14\u001b[0m \u001b[0;32mfrom\u001b[0m \u001b[0mray\u001b[0m\u001b[0;34m.\u001b[0m\u001b[0mtune\u001b[0m\u001b[0;34m.\u001b[0m\u001b[0mray_trial_executor\u001b[0m \u001b[0;32mimport\u001b[0m \u001b[0mRayTrialExecutor\u001b[0m\u001b[0;34m\u001b[0m\u001b[0;34m\u001b[0m\u001b[0m\n\u001b[1;32m     15\u001b[0m from ray.tune.result import (TIME_THIS_ITER_S, RESULT_DUPLICATE,\n",
      "\u001b[0;32m/usr/local/lib/python3.7/site-packages/ray/tune/progress_reporter.py\u001b[0m in \u001b[0;36m<module>\u001b[0;34m\u001b[0m\n\u001b[1;32m     12\u001b[0m     \u001b[0;32mfrom\u001b[0m \u001b[0mtabulate\u001b[0m \u001b[0;32mimport\u001b[0m \u001b[0mtabulate\u001b[0m\u001b[0;34m\u001b[0m\u001b[0;34m\u001b[0m\u001b[0m\n\u001b[1;32m     13\u001b[0m \u001b[0;32mexcept\u001b[0m \u001b[0mImportError\u001b[0m\u001b[0;34m:\u001b[0m\u001b[0;34m\u001b[0m\u001b[0;34m\u001b[0m\u001b[0m\n\u001b[0;32m---> 14\u001b[0;31m     raise ImportError(\"ray.tune in ray > 0.7.5 requires 'tabulate'. \"\n\u001b[0m\u001b[1;32m     15\u001b[0m                       \u001b[0;34m\"Please re-run 'pip install ray[tune]' or \"\u001b[0m\u001b[0;34m\u001b[0m\u001b[0;34m\u001b[0m\u001b[0m\n\u001b[1;32m     16\u001b[0m                       \"'pip install ray[rllib]'.\")\n",
      "\u001b[0;31mImportError\u001b[0m: ray.tune in ray > 0.7.5 requires 'tabulate'. Please re-run 'pip install ray[tune]' or 'pip install ray[rllib]'."
     ]
    }
   ],
   "source": [
    "from ray import tune\n"
   ]
  },
  {
   "cell_type": "code",
   "execution_count": null,
   "metadata": {},
   "outputs": [],
   "source": [
    "from tensorflow.python.summary.summary_iterator import summary_iterator\n",
    "# import tensorflow as tf"
   ]
  },
  {
   "cell_type": "code",
   "execution_count": null,
   "metadata": {},
   "outputs": [],
   "source": [
    "import sys, os\n",
    "\n",
    "def get_run_file(folder_name):\n",
    "    folder_path = \"./runs/{}\".format(folder_name)\n",
    "    file_name = list(os.walk(folder_path))[0][2][0]\n",
    "    path_to_events_file = os.path.join(folder_path, file_name)\n",
    "    return path_to_events_file"
   ]
  },
  {
   "cell_type": "code",
   "execution_count": null,
   "metadata": {},
   "outputs": [],
   "source": [
    "from collections import defaultdict\n",
    "\n",
    "def tb_to_pd(path):\n",
    "    \n",
    "    nets_dict = defaultdict(defaultdict(defaultdict(float)))\n",
    "\n",
    "    # This example supposes that the events file contains summaries with a\n",
    "    # summary value tag 'loss'.  These could have been added by calling\n",
    "    # `add_summary()`, passing the output of a scalar summary op created with\n",
    "    # with: `tf.scalar_summary(['loss'], loss_tensor)`.\n",
    "    for e in summary_iterator(path_to_events_file):\n",
    "        for v in e.summary.value:\n",
    "            net_num = int(v.tag.split(\"_\")[1]) # Todo make this /\n",
    "            name = v.tag.split(\"/\")[1]\n",
    "\n",
    "            if e.step not in nets_dict_potential[net_num]:\n",
    "                nets_dict_potential[net_num][e.step] = {}\n",
    "            nets_dict_potential[net_num][e.step][name] = v.simple_value\n",
    "                   \n",
    "        "
   ]
  },
  {
   "cell_type": "code",
   "execution_count": null,
   "metadata": {},
   "outputs": [],
   "source": [
    "def temp_tb_to_dict(path_to_events_file):\n",
    "    nets_dict_potential= [{} for _ in range(config[\"num_nets\"])] # TODO make this iter dicts\n",
    "    nets_dict_acc = [{} for _ in range(config[\"num_nets\"])] # TODO make this iter dicts\n",
    "\n",
    "    for e in summary_iterator(path_to_events_file):\n",
    "        for v in e.summary.value:\n",
    "            if (\"Potential\" in v.tag):\n",
    "                net_num = int(v.tag.split(\"_\")[1]) # Todo make this /\n",
    "                name = v.tag.split(\"/\")[1]\n",
    "\n",
    "                if e.step not in nets_dict_potential[net_num]:\n",
    "                    nets_dict_potential[net_num][e.step] = {}\n",
    "                nets_dict_potential[net_num][e.step][name] = v.simple_value\n",
    "            elif \"Accuracy\" in v.tag:\n",
    "                net_num = int(v.tag.split(\"_\")[1]) # Todo make this /\n",
    "\n",
    "                nets_dict_acc[net_num][e.step] = v.simple_value  \n",
    "                \n",
    "    return nets_dict_potential, nets_dict_acc\n",
    "        "
   ]
  },
  {
   "cell_type": "code",
   "execution_count": null,
   "metadata": {},
   "outputs": [],
   "source": [
    "def get_last_acc_potential(nets_dict_potential, nets_dict_acc):\n",
    "    w = []\n",
    "    a = []\n",
    "    for nn in range(len(nets_dict_acc)):\n",
    "        last_step = int(list(nets_dict_acc[nn].keys())[-2])\n",
    "        a.append(nets_dict_acc[nn][last_step])\n",
    "        w.append(nets_dict_potential[nn][last_step][\"total\"])\n",
    "    return w, a"
   ]
  },
  {
   "cell_type": "code",
   "execution_count": null,
   "metadata": {},
   "outputs": [],
   "source": [
    "def get_last(folder_name):\n",
    "    file_path = get_run_file(folder_name)\n",
    "    potential, acc = temp_tb_to_dict(file_path)\n",
    "    return get_last_acc_potential(potential, acc)"
   ]
  },
  {
   "cell_type": "code",
   "execution_count": null,
   "metadata": {},
   "outputs": [],
   "source": [
    "sharp_potential, sharp_acc = get_last(\"Mar18_01-44-57_Daniels-MacBook-Pro-4.local\")\n",
    "flat_potential, flat_acc = get_last(\"Mar18_01-54-06_Daniels-MacBook-Pro-4.local\")\n"
   ]
  },
  {
   "cell_type": "code",
   "execution_count": null,
   "metadata": {},
   "outputs": [],
   "source": [
    "# plt.scatter(without_potential_last, without_acc_last, label=\"without\")\n",
    "# plt.scatter(sharp_potential_last, sharp_acc_last, label=\"sharp\")\n",
    "plt.scatter(flat_potential, flat_acc, label=\"flat\")\n",
    "plt.scatter(sharp_potential, sharp_acc, label=\"sharp\")\n",
    "plt.legend()\n",
    "\n",
    "plt.show()"
   ]
  },
  {
   "cell_type": "code",
   "execution_count": null,
   "metadata": {},
   "outputs": [],
   "source": [
    "from scipy.stats.stats import pearsonr   \n",
    "print(pearsonr(a,w))"
   ]
  },
  {
   "cell_type": "code",
   "execution_count": null,
   "metadata": {},
   "outputs": [],
   "source": [
    "import pickle\n",
    "\n",
    "def get_models(experiment_name, step):\n",
    "    path = \"./models/gaussian/{}\".format(experiment_name)\n",
    "    nets_dict = {}\n",
    "    for root, dirs, files in os.walk(path):\n",
    "        for name in files:\n",
    "            name_split_underscore = name.split(\"_\")\n",
    "            if name_split_underscore[-1].split(\".\")[0] == str(step):\n",
    "                file_path = os.path.join(root, name)\n",
    "                with open(file_path, \"rb\") as f:\n",
    "                    net = torch.load(f)\n",
    "                nets_dict[name_split_underscore[1]] = net\n",
    "    return nets_dict"
   ]
  },
  {
   "cell_type": "code",
   "execution_count": null,
   "metadata": {},
   "outputs": [],
   "source": [
    "exp_name = \"Mar_14_16-21-33_Daniels-MacBook-Pro-4.local\"\n",
    "models = get_models(exp_name, 3149)"
   ]
  },
  {
   "cell_type": "code",
   "execution_count": null,
   "metadata": {},
   "outputs": [],
   "source": [
    "import torch\n",
    "from hessian_eigenthings import compute_hessian_eigenthings\n",
    "\n",
    "model = models[\"0\"]\n",
    "dataloader = data[0]\n",
    "loss = torch.nn.CrossEntropyLoss()\n",
    "\n",
    "num_eigenthings = 20  # compute top 20 eigenvalues/eigenvectors\n",
    "\n",
    "eigenvals, eigenvecs = compute_hessian_eigenthings(model, dataloader,\n",
    "                                                   loss, num_eigenthings,use_gpu=False)"
   ]
  },
  {
   "cell_type": "code",
   "execution_count": null,
   "metadata": {},
   "outputs": [],
   "source": [
    "plt.plot(eigenvals)\n",
    "plt.show()"
   ]
  }
 ],
 "metadata": {
  "kernelspec": {
   "display_name": "Python 3",
   "language": "python",
   "name": "python3"
  },
  "language_info": {
   "codemirror_mode": {
    "name": "ipython",
    "version": 3
   },
   "file_extension": ".py",
   "mimetype": "text/x-python",
   "name": "python",
   "nbconvert_exporter": "python",
   "pygments_lexer": "ipython3",
   "version": "3.7.3"
  }
 },
 "nbformat": 4,
 "nbformat_minor": 2
}
