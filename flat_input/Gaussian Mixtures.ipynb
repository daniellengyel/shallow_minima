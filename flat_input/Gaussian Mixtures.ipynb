{
 "cells": [
  {
   "cell_type": "code",
   "execution_count": 42,
   "metadata": {},
   "outputs": [
    {
     "name": "stdout",
     "output_type": "stream",
     "text": [
      "The autoreload extension is already loaded. To reload it, use:\n",
      "  %reload_ext autoreload\n"
     ]
    }
   ],
   "source": [
    "import numpy as np\n",
    "import matplotlib.pyplot as plt\n",
    "%matplotlib inline\n",
    "import torch\n",
    "import torchvision\n",
    "\n",
    "from utils import *\n",
    "from gaussian_training import *\n",
    "\n",
    "%load_ext autoreload\n",
    "%autoreload 2"
   ]
  },
  {
   "cell_type": "code",
   "execution_count": 43,
   "metadata": {},
   "outputs": [],
   "source": [
    "gaussian_params = []\n",
    "\n",
    "cov_1 = np.array([[1, 1/2.], [1/2., 1]])\n",
    "cov_2= np.array([[1, 1/2.], [1/2., 1]])\n",
    "\n",
    "mean_1 = np.array([0,0])\n",
    "mean_2 = np.array([2, 0])\n",
    "\n",
    "num_1 = 400\n",
    "num_2 = 400\n",
    "\n",
    "means = [mean_1, mean_2]\n",
    "covs = [cov_1, cov_2]\n",
    "training_nums = 500\n",
    "test_nums = 100\n"
   ]
  },
  {
   "cell_type": "code",
   "execution_count": 51,
   "metadata": {},
   "outputs": [],
   "source": [
    "\n",
    "\n",
    "config = {\n",
    "    \n",
    "    \"data\": {\"name\": \"gaussian_mixture\", \"params\": {\"means\": means, \"covs\": covs, \n",
    "                                                    \"nums\": [training_nums, test_nums]}},\n",
    "    \"net\": {\"name\": \"SimpleNet\", \"params\": [len(means[0])\n",
    "                                            , len(means), 512, 1]}, # inp_dim, out_dim, width, num_layers\n",
    "\n",
    "    \"torch_random_seed\": 1, \n",
    "    \"batch_size\": {\"train_size\": 64, \"test_size\": 1000},\n",
    "    \n",
    "    \"num_epochs\":  50, \n",
    "    \n",
    "    \"SGD_params\": {\"learning_rate\": 0.001, \"momentum\": 0.9},\n",
    "    \"num_nets\": 1, # would like to make it like other one, where we can define region to initialize\n",
    "    \"ess_threshold\": 0.90, # resample if kish less than this\n",
    "    \n",
    "    \"softmax_beta\": -40, # negtive to prioritize low weights\n",
    "    \n",
    "    \"weight_type\": \"loss_gradient_weights\"#\"input_output_forbenius\",\n",
    "    \n",
    "}"
   ]
  },
  {
   "cell_type": "code",
   "execution_count": 52,
   "metadata": {},
   "outputs": [
    {
     "name": "stdout",
     "output_type": "stream",
     "text": [
      "accuracy: 0.76\n",
      "accuracy: 0.90\n",
      "accuracy: 0.89\n",
      "accuracy: 0.89\n",
      "accuracy: 0.89\n",
      "accuracy: 0.88\n",
      "accuracy: 0.89\n",
      "accuracy: 0.88\n",
      "accuracy: 0.88\n",
      "accuracy: 0.88\n",
      "accuracy: 0.88\n",
      "accuracy: 0.88\n",
      "accuracy: 0.88\n",
      "accuracy: 0.88\n",
      "accuracy: 0.88\n",
      "accuracy: 0.88\n",
      "accuracy: 0.88\n",
      "accuracy: 0.88\n",
      "accuracy: 0.88\n",
      "accuracy: 0.88\n",
      "accuracy: 0.87\n",
      "accuracy: 0.88\n",
      "accuracy: 0.89\n",
      "accuracy: 0.87\n",
      "accuracy: 0.88\n",
      "accuracy: 0.88\n",
      "accuracy: 0.88\n",
      "accuracy: 0.88\n",
      "accuracy: 0.87\n",
      "accuracy: 0.87\n",
      "accuracy: 0.88\n",
      "accuracy: 0.88\n",
      "accuracy: 0.87\n",
      "accuracy: 0.88\n",
      "accuracy: 0.88\n",
      "accuracy: 0.88\n",
      "accuracy: 0.87\n",
      "accuracy: 0.87\n",
      "accuracy: 0.88\n",
      "accuracy: 0.88\n",
      "accuracy: 0.87\n",
      "accuracy: 0.89\n",
      "accuracy: 0.86\n",
      "accuracy: 0.88\n",
      "accuracy: 0.88\n",
      "accuracy: 0.86\n",
      "accuracy: 0.86\n",
      "accuracy: 0.88\n",
      "accuracy: 0.88\n",
      "accuracy: 0.88\n"
     ]
    },
    {
     "data": {
      "text/plain": [
       "[SimpleNet(\n",
       "   (fc1): Linear(in_features=2, out_features=512, bias=True)\n",
       "   (fc2): Linear(in_features=512, out_features=2, bias=True)\n",
       " )]"
      ]
     },
     "execution_count": 52,
     "metadata": {},
     "output_type": "execute_result"
    }
   ],
   "source": [
    "train(config)"
   ]
  },
  {
   "cell_type": "code",
   "execution_count": null,
   "metadata": {},
   "outputs": [],
   "source": []
  }
 ],
 "metadata": {
  "kernelspec": {
   "display_name": "Python 3",
   "language": "python",
   "name": "python3"
  },
  "language_info": {
   "codemirror_mode": {
    "name": "ipython",
    "version": 3
   },
   "file_extension": ".py",
   "mimetype": "text/x-python",
   "name": "python",
   "nbconvert_exporter": "python",
   "pygments_lexer": "ipython3",
   "version": "3.6.9"
  }
 },
 "nbformat": 4,
 "nbformat_minor": 2
}
