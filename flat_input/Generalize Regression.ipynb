{
 "cells": [
  {
   "cell_type": "code",
   "execution_count": 1,
   "metadata": {},
   "outputs": [],
   "source": [
    "import numpy as np\n",
    "import matplotlib.pyplot as plt\n",
    "%matplotlib inline\n",
    "import torch\n",
    "import torchvision\n",
    "\n",
    "from utils import *\n",
    "from mnist_train import *\n",
    "\n",
    "%load_ext autoreload\n",
    "%autoreload 2"
   ]
  },
  {
   "cell_type": "code",
   "execution_count": 2,
   "metadata": {},
   "outputs": [],
   "source": [
    "import sys\n",
    "sys.path.append(\"../\")\n",
    "from Functions import *"
   ]
  },
  {
   "cell_type": "code",
   "execution_count": 180,
   "metadata": {},
   "outputs": [],
   "source": [
    "import torch.nn as nn\n",
    "import torch.nn.functional as F\n",
    "from torch.nn import Module\n",
    "\n",
    "class SimpleNet(Module):\n",
    "    def __init__(self):\n",
    "        super(SimpleNet, self).__init__()\n",
    "        \n",
    "        inp_dim = 1 #30\n",
    "        out_dim = 1\n",
    "        width = 258\n",
    "        num_layers = 4\n",
    "        self.fc1 = nn.Linear(inp_dim, width)\n",
    "        self.layers = [nn.Linear(width, width) for _ in range(num_layers)]\n",
    "        self.fc2 = nn.Linear(width, out_dim)\n",
    "\n",
    "\n",
    "    def forward(self, x):\n",
    "        x = F.relu(self.fc1(x))\n",
    "        for i in range(len(self.layers)):\n",
    "            x = F.relu(self.layers[i](x))\n",
    "        x = self.fc2(x)\n",
    "        return x"
   ]
  },
  {
   "cell_type": "code",
   "execution_count": 181,
   "metadata": {},
   "outputs": [],
   "source": [
    "g_params = [[-10, 1, -2], [0, 10, -1]]\n",
    "\n",
    "f = gaussian_sum(g_params)"
   ]
  },
  {
   "cell_type": "code",
   "execution_count": 182,
   "metadata": {},
   "outputs": [
    {
     "data": {
      "image/png": "[encoded data removed]",
      "text/plain": [
       "<Figure size 432x288 with 1 Axes>"
      ]
     },
     "metadata": {
      "needs_background": "light"
     },
     "output_type": "display_data"
    }
   ],
   "source": [
    "X = np.linspace(-5, 5, 100)\n",
    "out = f(np.array([X.T]))\n",
    "\n",
    "plt.scatter(X, out)\n",
    "plt.show()"
   ]
  },
  {
   "cell_type": "code",
   "execution_count": 161,
   "metadata": {},
   "outputs": [
    {
     "data": {
      "image/png": "[encoded data removed]",
      "text/plain": [
       "<Figure size 432x288 with 1 Axes>"
      ]
     },
     "metadata": {
      "needs_background": "light"
     },
     "output_type": "display_data"
    }
   ],
   "source": [
    "X = np.concatenate([np.array([-10]), np.linspace(-15, -12, 100), np.linspace(-8, 15, 200)])\n",
    "out = f(np.array([X.T]))\n",
    "\n",
    "plt.scatter(X, out)\n",
    "plt.show()"
   ]
  },
  {
   "cell_type": "code",
   "execution_count": 183,
   "metadata": {},
   "outputs": [],
   "source": [
    "from torch.utils.data import Dataset, DataLoader\n",
    "\n",
    "class SimpleData(Dataset):\n",
    "    def __init__(self, X, Y):\n",
    "        self.data = []\n",
    "        self.targets = []\n",
    "\n",
    "        for i in range(len(X)):\n",
    "            self.data.append(torch.Tensor([X[i]]).float())\n",
    "            self.targets.append(torch.Tensor([Y[i]]).float())\n",
    "\n",
    "    def __getitem__(self, index):\n",
    "        return self.data[index], self.targets[index]\n",
    "\n",
    "    def __len__(self):\n",
    "        return len(self.data)\n",
    "\n",
    "\n",
    "def get_data(config):\n",
    "    g_params = [[-10, 1, -2], [0, 10, -1]]\n",
    "    f = gaussian_sum(g_params)   \n",
    "    \n",
    "#     X = np.concatenate([np.array([-10]), np.linspace(-15, 15, 1000), np.linspace(-8, 15, 200)])\n",
    "    X = np.linspace(-15, 15, 1000)\n",
    "    out = f(np.array([X.T]))\n",
    "    data = SimpleData(X, out)\n",
    "    return DataLoader(data, batch_size=config[\"batch_size\"][\"train_size\"], shuffle=True), _"
   ]
  },
  {
   "cell_type": "code",
   "execution_count": 187,
   "metadata": {},
   "outputs": [],
   "source": [
    "config = {\n",
    "    \"torch_random_seed\": None, \n",
    "    \"batch_size\": {\"train_size\": 10, \"test_size\": 1000},\n",
    "    \n",
    "    \"num_epochs\":  1000, \n",
    "    \n",
    "    \"SGD_params\": {\"learning_rate\": 0.1, \"momentum\": 0},\n",
    "    \"num_nets\": 1, # would like to make it like other one, where we can define region to initialize\n",
    "    \"ess_threshold\": 0.90, # resample if kish less than this\n",
    "    \n",
    "    \"softmax_beta\": -40, # negtive to prioritize low weights\n",
    "    \n",
    "    \"weight_type\": \"loss_gradient_weights\"#\"input_output_forbenius\",\n",
    "    \n",
    "}"
   ]
  },
  {
   "cell_type": "code",
   "execution_count": 190,
   "metadata": {},
   "outputs": [],
   "source": [
    "def train(config):\n",
    "    # init torch\n",
    "    torch.backends.cudnn.enabled = False\n",
    "#     if config[\"torch_random_seed\"] is not None:\n",
    "#         torch.manual_seed(config[\"torch_random_seed\"])\n",
    "\n",
    "    # get data\n",
    "    train_loader, test_loader = get_data(config)\n",
    "\n",
    "    # Init neural nets and weights\n",
    "    num_nets = config[\"num_nets\"]\n",
    "    nets = [SimpleNet() for _ in range(num_nets)]\n",
    "\n",
    "    #  Define a Loss function and optimizer\n",
    "    criterion = torch.nn.MSELoss()\n",
    "    optimizers = [optim.SGD(nets[i].parameters(), lr=config[\"SGD_params\"][\"learning_rate\"],\n",
    "                            momentum=config[\"SGD_params\"][\"momentum\"]) for i in range(num_nets)]\n",
    "\n",
    "#     writer = SummaryWriter()\n",
    "\n",
    "    # get train loaders for each net\n",
    "    net_data_loaders = [iter(enumerate(train_loader, 0)) for _ in range(num_nets)]\n",
    "\n",
    "    # train\n",
    "    for epoch in range(config[\"num_epochs\"]):\n",
    "        is_training_epoch = True\n",
    "\n",
    "        while is_training_epoch:\n",
    "            for idx_net in range(num_nets):\n",
    "                # get net and optimizer\n",
    "                net = nets[idx_net]\n",
    "                optimizer = optimizers[idx_net]\n",
    "\n",
    "                # get the inputs; data is a list of [inputs, labels]\n",
    "                try:\n",
    "                    i, data = next(net_data_loaders[idx_net])\n",
    "                except:\n",
    "                    is_training_epoch = False\n",
    "                    break\n",
    "                inputs, labels = data\n",
    "                labels = labels.reshape(len(labels))\n",
    "                \n",
    "#                 # Compute gradients for input.\n",
    "#                 inputs.requires_grad = True\n",
    "\n",
    "                # zero the parameter gradients\n",
    "                optimizer.zero_grad()\n",
    "\n",
    "                # forward + backward + optimize\n",
    "                outputs = net(inputs)\n",
    "                loss = criterion(outputs, labels)\n",
    "                loss.backward(retain_graph=True)\n",
    "                optimizer.step()\n",
    "\n",
    "                # store training accuracy current\n",
    "#                 writer.add_scalar('Loss/train/net {}'.format(idx_net), loss, i + epoch*len(train_loader))\n",
    "\n",
    "#                 writer.add_scalar('Weight/net {}'.format(idx_net), curr_weight, i + epoch*len(train_loader))\n",
    "        net_data_loaders = [iter(enumerate(train_loader, 0)) for _ in range(num_nets)]\n",
    "        if epoch % 100 == 0:\n",
    "            print(\"Epoch {}\".format(epoch))\n",
    "            X = np.linspace(-15, 15, 500)\n",
    "            Y = nets[0](torch.Tensor(X).view(len(X), 1)).detach().numpy()\n",
    "\n",
    "            plt.plot(X, Y)\n",
    "            plt.show()\n",
    "\n",
    "    return nets\n",
    " "
   ]
  },
  {
   "cell_type": "code",
   "execution_count": null,
   "metadata": {},
   "outputs": [],
   "source": [
    "nets = train(config)"
   ]
  },
  {
   "cell_type": "code",
   "execution_count": 197,
   "metadata": {},
   "outputs": [
    {
     "name": "stdout",
     "output_type": "stream",
     "text": [
      "(500,)\n"
     ]
    },
    {
     "data": {
      "image/png": "[encoded data removed]",
      "text/plain": [
       "<Figure size 432x288 with 1 Axes>"
      ]
     },
     "metadata": {
      "needs_background": "light"
     },
     "output_type": "display_data"
    }
   ],
   "source": [
    "X = np.linspace(-15, 15, 500)\n",
    "Y = nets[0](torch.Tensor(X).view(len(X), 1)).detach().numpy()\n",
    "\n",
    "plt.plot(X, Y)\n",
    "Yp = f(np.array([X.T]))\n",
    "print(Yp.shape)\n",
    "plt.plot(X, f(np.array([X.T])))\n",
    "plt.show()"
   ]
  },
  {
   "cell_type": "code",
   "execution_count": 192,
   "metadata": {},
   "outputs": [
    {
     "data": {
      "text/plain": [
       "tensor([-0.1049], grad_fn=<AddBackward0>)"
      ]
     },
     "execution_count": 192,
     "metadata": {},
     "output_type": "execute_result"
    }
   ],
   "source": [
    "nets[0](torch.Tensor([2]))"
   ]
  },
  {
   "cell_type": "code",
   "execution_count": null,
   "metadata": {},
   "outputs": [],
   "source": []
  },
  {
   "cell_type": "code",
   "execution_count": null,
   "metadata": {},
   "outputs": [],
   "source": []
  }
 ],
 "metadata": {
  "kernelspec": {
   "display_name": "Python 3",
   "language": "python",
   "name": "python3"
  },
  "language_info": {
   "codemirror_mode": {
    "name": "ipython",
    "version": 3
   },
   "file_extension": ".py",
   "mimetype": "text/x-python",
   "name": "python",
   "nbconvert_exporter": "python",
   "pygments_lexer": "ipython3",
   "version": "3.7.3"
  }
 },
 "nbformat": 4,
 "nbformat_minor": 2
}
