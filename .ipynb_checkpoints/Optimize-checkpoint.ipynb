{
 "cells": [
  {
   "cell_type": "code",
   "execution_count": 1,
   "metadata": {},
   "outputs": [],
   "source": [
    "from Functions import *\n",
    "from Optimizations import *\n",
    "from utils import *\n",
    "from Saving import *\n",
    "\n",
    "%load_ext autoreload\n",
    "\n",
    "%autoreload 2"
   ]
  },
  {
   "cell_type": "code",
   "execution_count": 2,
   "metadata": {},
   "outputs": [],
   "source": [
    "import time\n",
    "import yaml"
   ]
  },
  {
   "cell_type": "code",
   "execution_count": 3,
   "metadata": {},
   "outputs": [],
   "source": [
    "f = flat_sharp_gaussian\n",
    "grad_f = grad_flat_sharp_gaussian\n",
    "\n",
    "x_range = [-25, 25]"
   ]
  },
  {
   "cell_type": "code",
   "execution_count": 14,
   "metadata": {},
   "outputs": [],
   "source": [
    "A = np.array([[1]])\n",
    "b = np.array([0])\n",
    "f = QuadraticFunctionInit(A, b)\n",
    "grad_f = GradQuadraticFunctionInit(A)\n",
    "\n",
    "x_range = [-50, 50]"
   ]
  },
  {
   "cell_type": "code",
   "execution_count": 13,
   "metadata": {},
   "outputs": [
    {
     "name": "stdout",
     "output_type": "stream",
     "text": [
      "[[  8.45868196]\n",
      " [  4.61725075]\n",
      " [-19.46789694]\n",
      " ...\n",
      " [ 24.2429464 ]\n",
      " [-23.61945533]\n",
      " [  6.71978563]]\n"
     ]
    },
    {
     "ename": "OverflowError",
     "evalue": "(34, 'Numerical result out of range')",
     "output_type": "error",
     "traceback": [
      "\u001b[0;31m---------------------------------------------------------------------------\u001b[0m",
      "\u001b[0;31mOverflowError\u001b[0m                             Traceback (most recent call last)",
      "\u001b[0;32m<ipython-input-13-f900a0dee828>\u001b[0m in \u001b[0;36m<module>\u001b[0;34m\u001b[0m\n\u001b[1;32m     26\u001b[0m \u001b[0mprocess\u001b[0m\u001b[0;34m[\u001b[0m\u001b[0;34m\"domain_enforcer\"\u001b[0m\u001b[0;34m]\u001b[0m \u001b[0;34m=\u001b[0m \u001b[0;34m{\u001b[0m\u001b[0;34m\"name\"\u001b[0m\u001b[0;34m:\u001b[0m \u001b[0;34m\"hyper_cube_enforcer\"\u001b[0m\u001b[0;34m,\u001b[0m \u001b[0;34m\"params\"\u001b[0m\u001b[0;34m:\u001b[0m \u001b[0;34m{\u001b[0m\u001b[0;34m\"strength\"\u001b[0m\u001b[0;34m:\u001b[0m \u001b[0;36m0.2\u001b[0m\u001b[0;34m}\u001b[0m\u001b[0;34m}\u001b[0m\u001b[0;34m\u001b[0m\u001b[0;34m\u001b[0m\u001b[0m\n\u001b[1;32m     27\u001b[0m \u001b[0;34m\u001b[0m\u001b[0m\n\u001b[0;32m---> 28\u001b[0;31m \u001b[0mall_paths\u001b[0m \u001b[0;34m=\u001b[0m \u001b[0mdiffusion_resampling\u001b[0m\u001b[0;34m(\u001b[0m\u001b[0mprocess\u001b[0m\u001b[0;34m,\u001b[0m \u001b[0mreturn_full_path\u001b[0m\u001b[0;34m=\u001b[0m\u001b[0;32mFalse\u001b[0m\u001b[0;34m)\u001b[0m\u001b[0;34m\u001b[0m\u001b[0;34m\u001b[0m\u001b[0m\n\u001b[0m",
      "\u001b[0;32m~/shallow_minima/Optimizations.py\u001b[0m in \u001b[0;36mdiffusion_resampling\u001b[0;34m(process, return_full_path, verbose, domain_enforcer)\u001b[0m\n\u001b[1;32m     62\u001b[0m \u001b[0;34m\u001b[0m\u001b[0m\n\u001b[1;32m     63\u001b[0m             \u001b[0;31m# weight update\u001b[0m\u001b[0;34m\u001b[0m\u001b[0;34m\u001b[0m\u001b[0;34m\u001b[0m\u001b[0m\n\u001b[0;32m---> 64\u001b[0;31m             \u001b[0mp_weights\u001b[0m \u001b[0;34m=\u001b[0m \u001b[0mp_weight_func\u001b[0m\u001b[0;34m(\u001b[0m\u001b[0mU\u001b[0m\u001b[0;34m,\u001b[0m \u001b[0mgrad_U\u001b[0m\u001b[0;34m,\u001b[0m \u001b[0mx_curr\u001b[0m\u001b[0;34m.\u001b[0m\u001b[0mT\u001b[0m\u001b[0;34m,\u001b[0m \u001b[0mp_weights\u001b[0m\u001b[0;34m)\u001b[0m\u001b[0;34m\u001b[0m\u001b[0;34m\u001b[0m\u001b[0m\n\u001b[0m\u001b[1;32m     65\u001b[0m \u001b[0;34m\u001b[0m\u001b[0m\n\u001b[1;32m     66\u001b[0m \u001b[0;34m\u001b[0m\u001b[0m\n",
      "\u001b[0;32m~/shallow_minima/utils.py\u001b[0m in \u001b[0;36m<lambda>\u001b[0;34m(U, grad_U, x, curr_weights)\u001b[0m\n\u001b[1;32m     71\u001b[0m \u001b[0;32mdef\u001b[0m \u001b[0mget_weight_function\u001b[0m\u001b[0;34m(\u001b[0m\u001b[0mprocess\u001b[0m\u001b[0;34m)\u001b[0m\u001b[0;34m:\u001b[0m\u001b[0;34m\u001b[0m\u001b[0;34m\u001b[0m\u001b[0m\n\u001b[1;32m     72\u001b[0m     \u001b[0;32mif\u001b[0m \u001b[0mprocess\u001b[0m\u001b[0;34m[\u001b[0m\u001b[0;34m\"weight_function\"\u001b[0m\u001b[0;34m]\u001b[0m\u001b[0;34m[\u001b[0m\u001b[0;34m\"name\"\u001b[0m\u001b[0;34m]\u001b[0m \u001b[0;34m==\u001b[0m \u001b[0;34m\"norm\"\u001b[0m\u001b[0;34m:\u001b[0m\u001b[0;34m\u001b[0m\u001b[0;34m\u001b[0m\u001b[0m\n\u001b[0;32m---> 73\u001b[0;31m         \u001b[0mp_weight_func\u001b[0m \u001b[0;34m=\u001b[0m \u001b[0;32mlambda\u001b[0m \u001b[0mU\u001b[0m\u001b[0;34m,\u001b[0m \u001b[0mgrad_U\u001b[0m\u001b[0;34m,\u001b[0m \u001b[0mx\u001b[0m\u001b[0;34m,\u001b[0m \u001b[0mcurr_weights\u001b[0m\u001b[0;34m:\u001b[0m \u001b[0mweight_function_discounted_norm\u001b[0m\u001b[0;34m(\u001b[0m\u001b[0mU\u001b[0m\u001b[0;34m,\u001b[0m \u001b[0mgrad_U\u001b[0m\u001b[0;34m,\u001b[0m \u001b[0mx\u001b[0m\u001b[0;34m,\u001b[0m \u001b[0mcurr_weights\u001b[0m\u001b[0;34m,\u001b[0m \u001b[0;36m1\u001b[0m\u001b[0;34m)\u001b[0m\u001b[0;34m\u001b[0m\u001b[0;34m\u001b[0m\u001b[0m\n\u001b[0m\u001b[1;32m     74\u001b[0m     \u001b[0;32melif\u001b[0m \u001b[0mprocess\u001b[0m\u001b[0;34m[\u001b[0m\u001b[0;34m\"weight_function\"\u001b[0m\u001b[0;34m]\u001b[0m\u001b[0;34m[\u001b[0m\u001b[0;34m\"name\"\u001b[0m\u001b[0;34m]\u001b[0m \u001b[0;34m==\u001b[0m \u001b[0;34m\"discounted_norm\"\u001b[0m\u001b[0;34m:\u001b[0m\u001b[0;34m\u001b[0m\u001b[0;34m\u001b[0m\u001b[0m\n\u001b[1;32m     75\u001b[0m         \u001b[0mweight_gamma\u001b[0m \u001b[0;34m=\u001b[0m \u001b[0mprocess\u001b[0m\u001b[0;34m[\u001b[0m\u001b[0;34m\"weight_function\"\u001b[0m\u001b[0;34m]\u001b[0m\u001b[0;34m[\u001b[0m\u001b[0;34m\"params\"\u001b[0m\u001b[0;34m]\u001b[0m\u001b[0;34m[\u001b[0m\u001b[0;34m\"gamma\"\u001b[0m\u001b[0;34m]\u001b[0m\u001b[0;34m\u001b[0m\u001b[0;34m\u001b[0m\u001b[0m\n",
      "\u001b[0;32m~/shallow_minima/utils.py\u001b[0m in \u001b[0;36mweight_function_discounted_norm\u001b[0;34m(U, grad_U, x, curr_weights, gamma, partials)\u001b[0m\n\u001b[1;32m    106\u001b[0m \u001b[0;34m\u001b[0m\u001b[0m\n\u001b[1;32m    107\u001b[0m \u001b[0;32mdef\u001b[0m \u001b[0mweight_function_discounted_norm\u001b[0m\u001b[0;34m(\u001b[0m\u001b[0mU\u001b[0m\u001b[0;34m,\u001b[0m \u001b[0mgrad_U\u001b[0m\u001b[0;34m,\u001b[0m \u001b[0mx\u001b[0m\u001b[0;34m,\u001b[0m \u001b[0mcurr_weights\u001b[0m\u001b[0;34m,\u001b[0m \u001b[0mgamma\u001b[0m\u001b[0;34m=\u001b[0m\u001b[0;36m1\u001b[0m\u001b[0;34m,\u001b[0m \u001b[0mpartials\u001b[0m\u001b[0;34m=\u001b[0m\u001b[0;32mNone\u001b[0m\u001b[0;34m)\u001b[0m\u001b[0;34m:\u001b[0m\u001b[0;34m\u001b[0m\u001b[0;34m\u001b[0m\u001b[0m\n\u001b[0;32m--> 108\u001b[0;31m     \u001b[0mgrad\u001b[0m \u001b[0;34m=\u001b[0m \u001b[0mgrad_U\u001b[0m\u001b[0;34m(\u001b[0m\u001b[0mx\u001b[0m\u001b[0;34m.\u001b[0m\u001b[0mT\u001b[0m\u001b[0;34m)\u001b[0m\u001b[0;34m\u001b[0m\u001b[0;34m\u001b[0m\u001b[0m\n\u001b[0m\u001b[1;32m    109\u001b[0m     \u001b[0;32mif\u001b[0m \u001b[0mpartials\u001b[0m \u001b[0;32mis\u001b[0m \u001b[0;32mnot\u001b[0m \u001b[0;32mNone\u001b[0m\u001b[0;34m:\u001b[0m\u001b[0;34m\u001b[0m\u001b[0;34m\u001b[0m\u001b[0m\n\u001b[1;32m    110\u001b[0m         \u001b[0mgrad\u001b[0m \u001b[0;34m=\u001b[0m \u001b[0mgrad\u001b[0m\u001b[0;34m[\u001b[0m\u001b[0mpartials\u001b[0m\u001b[0;34m]\u001b[0m\u001b[0;34m\u001b[0m\u001b[0;34m\u001b[0m\u001b[0m\n",
      "\u001b[0;32m~/shallow_minima/Functions.py\u001b[0m in \u001b[0;36mhelper\u001b[0;34m(inp)\u001b[0m\n\u001b[1;32m    192\u001b[0m         \u001b[0;32mfor\u001b[0m \u001b[0mi\u001b[0m \u001b[0;32min\u001b[0m \u001b[0mrange\u001b[0m\u001b[0;34m(\u001b[0m\u001b[0mlen\u001b[0m\u001b[0;34m(\u001b[0m\u001b[0mparams\u001b[0m\u001b[0;34m)\u001b[0m\u001b[0;34m)\u001b[0m\u001b[0;34m:\u001b[0m\u001b[0;34m\u001b[0m\u001b[0;34m\u001b[0m\u001b[0m\n\u001b[1;32m    193\u001b[0m             \u001b[0mtemp_param\u001b[0m \u001b[0;34m=\u001b[0m \u001b[0mparams\u001b[0m\u001b[0;34m[\u001b[0m\u001b[0mi\u001b[0m\u001b[0;34m]\u001b[0m\u001b[0;34m\u001b[0m\u001b[0;34m\u001b[0m\u001b[0m\n\u001b[0;32m--> 194\u001b[0;31m             \u001b[0mres\u001b[0m \u001b[0;34m+=\u001b[0m \u001b[0mtemp_param\u001b[0m\u001b[0;34m[\u001b[0m\u001b[0;36m2\u001b[0m\u001b[0;34m]\u001b[0m \u001b[0;34m*\u001b[0m \u001b[0mgrad_multi_gaussian\u001b[0m\u001b[0;34m(\u001b[0m\u001b[0mtemp_param\u001b[0m\u001b[0;34m[\u001b[0m\u001b[0;36m1\u001b[0m\u001b[0;34m]\u001b[0m \u001b[0;34m*\u001b[0m \u001b[0mnp\u001b[0m\u001b[0;34m.\u001b[0m\u001b[0meye\u001b[0m\u001b[0;34m(\u001b[0m\u001b[0mdim\u001b[0m\u001b[0;34m)\u001b[0m\u001b[0;34m)\u001b[0m\u001b[0;34m(\u001b[0m\u001b[0minp\u001b[0m\u001b[0;34m,\u001b[0m \u001b[0mtemp_param\u001b[0m\u001b[0;34m[\u001b[0m\u001b[0;36m0\u001b[0m\u001b[0;34m]\u001b[0m \u001b[0;34m*\u001b[0m \u001b[0mnp\u001b[0m\u001b[0;34m.\u001b[0m\u001b[0mones\u001b[0m\u001b[0;34m(\u001b[0m\u001b[0mdim\u001b[0m\u001b[0;34m)\u001b[0m\u001b[0;34m)\u001b[0m\u001b[0;34m\u001b[0m\u001b[0;34m\u001b[0m\u001b[0m\n\u001b[0m\u001b[1;32m    195\u001b[0m         \u001b[0;32mreturn\u001b[0m \u001b[0mres\u001b[0m\u001b[0;34m\u001b[0m\u001b[0;34m\u001b[0m\u001b[0m\n\u001b[1;32m    196\u001b[0m     \u001b[0;32mreturn\u001b[0m \u001b[0mhelper\u001b[0m\u001b[0;34m\u001b[0m\u001b[0;34m\u001b[0m\u001b[0m\n",
      "\u001b[0;32m~/shallow_minima/Kernels.py\u001b[0m in \u001b[0;36mgrad_gaussian_helper\u001b[0;34m(inp, mu)\u001b[0m\n\u001b[1;32m     30\u001b[0m         \u001b[0mdiff\u001b[0m \u001b[0;34m=\u001b[0m \u001b[0;34m(\u001b[0m\u001b[0minp\u001b[0m\u001b[0;34m.\u001b[0m\u001b[0mT\u001b[0m \u001b[0;34m-\u001b[0m \u001b[0mmu\u001b[0m\u001b[0;34m)\u001b[0m\u001b[0;34m.\u001b[0m\u001b[0mT\u001b[0m\u001b[0;34m\u001b[0m\u001b[0;34m\u001b[0m\u001b[0m\n\u001b[1;32m     31\u001b[0m \u001b[0;34m\u001b[0m\u001b[0m\n\u001b[0;32m---> 32\u001b[0;31m         \u001b[0mmg\u001b[0m \u001b[0;34m=\u001b[0m \u001b[0mmulti_gaussian\u001b[0m\u001b[0;34m(\u001b[0m\u001b[0mcov\u001b[0m\u001b[0;34m)\u001b[0m\u001b[0;34m(\u001b[0m\u001b[0minp\u001b[0m\u001b[0;34m,\u001b[0m \u001b[0mmu\u001b[0m\u001b[0;34m)\u001b[0m\u001b[0;34m\u001b[0m\u001b[0;34m\u001b[0m\u001b[0m\n\u001b[0m\u001b[1;32m     33\u001b[0m         \u001b[0mgrad_term\u001b[0m \u001b[0;34m=\u001b[0m \u001b[0;34m-\u001b[0m \u001b[0mnp\u001b[0m\u001b[0;34m.\u001b[0m\u001b[0mlinalg\u001b[0m\u001b[0;34m.\u001b[0m\u001b[0minv\u001b[0m\u001b[0;34m(\u001b[0m\u001b[0mcov\u001b[0m\u001b[0;34m)\u001b[0m\u001b[0;34m.\u001b[0m\u001b[0mdot\u001b[0m\u001b[0;34m(\u001b[0m\u001b[0mdiff\u001b[0m\u001b[0;34m)\u001b[0m\u001b[0;34m\u001b[0m\u001b[0;34m\u001b[0m\u001b[0m\n\u001b[1;32m     34\u001b[0m         \u001b[0;32mreturn\u001b[0m \u001b[0mmg\u001b[0m \u001b[0;34m*\u001b[0m \u001b[0mgrad_term\u001b[0m\u001b[0;34m\u001b[0m\u001b[0;34m\u001b[0m\u001b[0m\n",
      "\u001b[0;32m~/shallow_minima/Kernels.py\u001b[0m in \u001b[0;36mmulti_gaussian_helper\u001b[0;34m(inp, mu)\u001b[0m\n\u001b[1;32m     11\u001b[0m         \u001b[0mk\u001b[0m \u001b[0;34m=\u001b[0m \u001b[0minp\u001b[0m\u001b[0;34m.\u001b[0m\u001b[0mshape\u001b[0m\u001b[0;34m[\u001b[0m\u001b[0;36m0\u001b[0m\u001b[0;34m]\u001b[0m\u001b[0;34m\u001b[0m\u001b[0;34m\u001b[0m\u001b[0m\n\u001b[1;32m     12\u001b[0m         \u001b[0mdiff\u001b[0m \u001b[0;34m=\u001b[0m \u001b[0;34m(\u001b[0m\u001b[0minp\u001b[0m\u001b[0;34m.\u001b[0m\u001b[0mT\u001b[0m \u001b[0;34m-\u001b[0m \u001b[0mmu\u001b[0m\u001b[0;34m)\u001b[0m\u001b[0;34m.\u001b[0m\u001b[0mT\u001b[0m\u001b[0;34m\u001b[0m\u001b[0;34m\u001b[0m\u001b[0m\n\u001b[0;32m---> 13\u001b[0;31m         return 1 / np.sqrt(pow(2 * np.pi, k) * np.linalg.det(cov)) * np.exp(\n\u001b[0m\u001b[1;32m     14\u001b[0m             -0.5 * np.sum(diff*(np.linalg.inv(cov).dot(diff)), axis=0))\n\u001b[1;32m     15\u001b[0m     \u001b[0;32mreturn\u001b[0m \u001b[0mmulti_gaussian_helper\u001b[0m\u001b[0;34m\u001b[0m\u001b[0;34m\u001b[0m\u001b[0m\n",
      "\u001b[0;31mOverflowError\u001b[0m: (34, 'Numerical result out of range')"
     ]
    }
   ],
   "source": [
    "# g_params = [[-10, 1, -2], [0, 10, -1], [10, 3, 1], [-20, 1, 3], [20, 1, 3]]\n",
    "# g_params = [[-10, 0.7, -1], [0, 10, -1.5], [9, 3, 1], [17.5, 10, -0.5], [-20, 1, 3], [25, 1, 3]]\n",
    "g_params = [[-40, 0.7, -2],[-30, 0.7, -1.5],[-5, 0.7, -1], [35, 0.7, -1.5], \n",
    "            [-17.5, 30, -3], [5, 10, -1.5], [14, 3, 1], [25, 10, -0.5], \n",
    "            [-50, 1, 3], [50, 1, 3]]\n",
    "\n",
    "process = {}\n",
    "\n",
    "process[\"particle_init\"] = {\"name\": \"1d_uniform\", \n",
    "                            \"num_particles\": 5000}\n",
    "\n",
    "process[\"potential_function\"] = {\"name\": \"gaussian\", \n",
    "                                 \"params\": g_params}\n",
    "\n",
    "process[\"total_iter\"] = 50\n",
    "process[\"tau\"] = 200\n",
    "process[\"x_range\"] = [-25, 25]\n",
    "\n",
    "process[\"gamma\"] = 0.1\n",
    "process[\"temperature\"] = 0.5\n",
    "process[\"epsilon\"] = 0\n",
    "\n",
    "process[\"weight_function\"] = {\"name\": \"norm\"} \n",
    "process[\"resample_function\"] = {\"name\": \"softmax\", \"params\": {\"beta\": -0.05}} \n",
    "\n",
    "process[\"domain_enforcer\"] = {\"name\": \"hyper_cube_enforcer\", \"params\": {\"strength\": 0.2}}\n",
    "\n",
    "all_paths = diffusion_resampling(process, return_full_path=False)\n"
   ]
  },
  {
   "cell_type": "code",
   "execution_count": 119,
   "metadata": {},
   "outputs": [],
   "source": [
    "# want to get order: big_timestep, tau_timestep, particle, point\n",
    "\n",
    "f, grad_f = get_potential(process)\n",
    "\n",
    "X = np.linspace(process[\"x_range\"][0], process[\"x_range\"][1], 200)\n",
    "inp = np.array([X])\n",
    "Y = f(inp)\n",
    "\n",
    "inp = all_paths.reshape([np.product(all_paths.shape[:3]), all_paths.shape[-1]]).T\n",
    "out = f(inp)\n",
    "all_paths_proc = np.concatenate([inp.T, out.reshape([len(out), 1])], axis=1).reshape(all_paths.shape[0], all_paths.shape[1], all_paths.shape[2], 2)"
   ]
  },
  {
   "cell_type": "code",
   "execution_count": null,
   "metadata": {
    "scrolled": true
   },
   "outputs": [],
   "source": [
    "# full process densities \n",
    "K = multi_gaussian(np.array([[0.6]]))\n",
    "\n",
    "folder_name = \"full_{}_{}\".format(process[\"potential_function\"][\"name\"], process[\"tau\"])\n",
    "saved_path = create_animation_1d_pictures_particles(all_paths_proc, X, Y, folder_name=folder_name, graph_details={\"p_size\": 3, #\"density_function\": None})\n",
    "                                                                                      \"density_function\": \n",
    "                                                                                      lambda x, p: V(np.array([x]), K, p)})\n",
    "    \n",
    "create_animation(saved_path, \"{}.mp4\".format(folder_name), framerate=10)\n",
    "\n",
    "time.sleep(3) # otherwise it deletes the images before getting the video\n",
    "remove_png(saved_path)import plotly.graph_objects as go\n",
    "save_config(saved_path, process)"
   ]
  },
  {
   "cell_type": "code",
   "execution_count": 120,
   "metadata": {},
   "outputs": [],
   "source": [
    "# only feynman kac after selection densities \n",
    "fk_all_paths_proc = all_paths_proc[:, :, 0, :]\n",
    "fk_all_paths_proc = fk_all_paths_proc.reshape([fk_all_paths_proc.shape[0], fk_all_paths_proc.shape[1], 1, fk_all_paths_proc.shape[2]])\n",
    "\n",
    "K = multi_gaussian(np.array([[0.6]]))\n",
    "\n",
    "folder_name = \"selection_{}_{}_{}\".format(process[\"potential_function\"][\"name\"], process[\"resample_function\"][\"params\"][\"beta\"], process[\"tau\"])\n",
    "saved_path = create_animation_1d_pictures_particles(fk_all_paths_proc, X, Y, folder_name=folder_name, graph_details={\"p_size\": 3, #\"density_function\": None})\n",
    "                                                                                      \"density_function\": \n",
    "                                                                                      lambda x, p: V(np.array([x]), K, p)})\n",
    "    \n",
    "create_animation(saved_path, \"{}.mp4\".format(folder_name), framerate=10)\n",
    "\n",
    "time.sleep(3) # otherwise it deletes the images before getting the video\n",
    "remove_png(saved_path)\n",
    "save_config(saved_path, process)"
   ]
  },
  {
   "cell_type": "code",
   "execution_count": 121,
   "metadata": {},
   "outputs": [],
   "source": [
    "# only feynman kac after mutation densities \n",
    "fk_all_paths_proc = all_paths_proc[:, :, -1, :]\n",
    "fk_all_paths_proc = fk_all_paths_proc.reshape([fk_all_paths_proc.shape[0], fk_all_paths_proc.shape[1], 1, fk_all_paths_proc.shape[2]])\n",
    "\n",
    "K = multi_gaussian(np.array([[0.6]]))\n",
    "\n",
    "folder_name = \"mutation_{}_{}_{}\".format(process[\"potential_function\"][\"name\"], process[\"resample_function\"][\"params\"][\"beta\"], process[\"tau\"])\n",
    "saved_path = create_animation_1d_pictures_particles(fk_all_paths_proc, X, Y, folder_name=folder_name, graph_details={\"p_size\": 3, #\"density_function\": None})\n",
    "                                                                                      \"density_function\": \n",
    "                                                                                      lambda x, p: V(np.array([x]), K, p)})\n",
    "    \n",
    "create_animation(saved_path, \"{}.mp4\".format(folder_name), framerate=10)\n",
    "\n",
    "time.sleep(3) # otherwise it deletes the images before getting the video\n",
    "remove_png(saved_path)\n",
    "save_config(saved_path, process)"
   ]
  },
  {
   "cell_type": "markdown",
   "metadata": {},
   "source": [
    "### Things to note:\n",
    "\n",
    "The beta value of the softmax turns out to be very important. Adjusting that value determines how much to value each respective shallow/flat regions. Seems like changing it can give you a nice stationary distribution around certain falt minima. \n",
    "\n",
    "Also the tau value is important. Letting the run run for too long will cause the particles to approach more or less the stationary distribution if ran with soley diffusion. \n",
    "\n",
    "Maybe penalize where you started from. \n",
    "\n"
   ]
  },
  {
   "cell_type": "code",
   "execution_count": 1,
   "metadata": {},
   "outputs": [
    {
     "ename": "NameError",
     "evalue": "name 'yaml' is not defined",
     "output_type": "error",
     "traceback": [
      "\u001b[0;31m---------------------------------------------------------------------------\u001b[0m",
      "\u001b[0;31mNameError\u001b[0m                                 Traceback (most recent call last)",
      "\u001b[0;32m<ipython-input-1-e316a41120e8>\u001b[0m in \u001b[0;36m<module>\u001b[0;34m\u001b[0m\n\u001b[1;32m      4\u001b[0m     \u001b[0;32mreturn\u001b[0m \u001b[0mc\u001b[0m\u001b[0;34m\u001b[0m\u001b[0;34m\u001b[0m\u001b[0m\n\u001b[1;32m      5\u001b[0m \u001b[0;34m\u001b[0m\u001b[0m\n\u001b[0;32m----> 6\u001b[0;31m \u001b[0mc\u001b[0m \u001b[0;34m=\u001b[0m \u001b[0mload_config\u001b[0m\u001b[0;34m(\u001b[0m\u001b[0;34m\"./tmp/1d__1579540892.8095877\"\u001b[0m\u001b[0;34m)\u001b[0m\u001b[0;34m\u001b[0m\u001b[0;34m\u001b[0m\u001b[0m\n\u001b[0m",
      "\u001b[0;32m<ipython-input-1-e316a41120e8>\u001b[0m in \u001b[0;36mload_config\u001b[0;34m(load_dir)\u001b[0m\n\u001b[1;32m      1\u001b[0m \u001b[0;32mdef\u001b[0m \u001b[0mload_config\u001b[0m\u001b[0;34m(\u001b[0m\u001b[0mload_dir\u001b[0m\u001b[0;34m)\u001b[0m\u001b[0;34m:\u001b[0m\u001b[0;34m\u001b[0m\u001b[0;34m\u001b[0m\u001b[0m\n\u001b[1;32m      2\u001b[0m     \u001b[0;32mwith\u001b[0m \u001b[0mopen\u001b[0m\u001b[0;34m(\u001b[0m\u001b[0mload_dir\u001b[0m \u001b[0;34m+\u001b[0m \u001b[0;34m\"/process.yml\"\u001b[0m\u001b[0;34m,\u001b[0m \u001b[0;34m\"r\"\u001b[0m\u001b[0;34m)\u001b[0m \u001b[0;32mas\u001b[0m \u001b[0mf\u001b[0m\u001b[0;34m:\u001b[0m\u001b[0;34m\u001b[0m\u001b[0;34m\u001b[0m\u001b[0m\n\u001b[0;32m----> 3\u001b[0;31m         \u001b[0mc\u001b[0m \u001b[0;34m=\u001b[0m \u001b[0myaml\u001b[0m\u001b[0;34m.\u001b[0m\u001b[0mload\u001b[0m\u001b[0;34m(\u001b[0m\u001b[0mf\u001b[0m\u001b[0;34m)\u001b[0m\u001b[0;34m\u001b[0m\u001b[0;34m\u001b[0m\u001b[0m\n\u001b[0m\u001b[1;32m      4\u001b[0m     \u001b[0;32mreturn\u001b[0m \u001b[0mc\u001b[0m\u001b[0;34m\u001b[0m\u001b[0;34m\u001b[0m\u001b[0m\n\u001b[1;32m      5\u001b[0m \u001b[0;34m\u001b[0m\u001b[0m\n",
      "\u001b[0;31mNameError\u001b[0m: name 'yaml' is not defined"
     ]
    }
   ],
   "source": [
    "def load_config(load_dir):\n",
    "    with open(load_dir + \"/process.yml\", \"r\") as f:\n",
    "        c = yaml.load(f)\n",
    "    return c\n",
    "\n",
    "c = load_config(\"./tmp/1d__1579540892.8095877\")"
   ]
  }
 ],
 "metadata": {
  "kernelspec": {
   "display_name": "Python 3",
   "language": "python",
   "name": "python3"
  },
  "language_info": {
   "codemirror_mode": {
    "name": "ipython",
    "version": 3
   },
   "file_extension": ".py",
   "mimetype": "text/x-python",
   "name": "python",
   "nbconvert_exporter": "python",
   "pygments_lexer": "ipython3",
   "version": "3.6.9"
  }
 },
 "nbformat": 4,
 "nbformat_minor": 2
}
