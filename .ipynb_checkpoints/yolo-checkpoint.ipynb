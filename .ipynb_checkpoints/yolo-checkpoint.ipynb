{
 "cells": [
  {
   "cell_type": "code",
   "execution_count": 61,
   "metadata": {},
   "outputs": [],
   "source": [
    "import autograd.numpy as np\n",
    "from Functions import *\n",
    "\n",
    "import matplotlib.pyplot as plt"
   ]
  },
  {
   "cell_type": "code",
   "execution_count": 62,
   "metadata": {},
   "outputs": [],
   "source": [
    "from Functions import *\n",
    "from Optimizations import *\n",
    "from utils import *\n",
    "from Saving import *\n",
    "\n",
    "%load_ext autoreload\n",
    "\n",
    "%autoreload 2"
   ]
  },
  {
   "cell_type": "code",
   "execution_count": 63,
   "metadata": {},
   "outputs": [],
   "source": [
    "import time\n",
    "import yaml"
   ]
  },
  {
   "cell_type": "code",
   "execution_count": 64,
   "metadata": {},
   "outputs": [],
   "source": [
    "a = np.array([10, -9.89])\n",
    "b = np.array([-9.89, 10])"
   ]
  },
  {
   "cell_type": "code",
   "execution_count": 65,
   "metadata": {},
   "outputs": [
    {
     "data": {
      "image/png": "[encoded data removed]",
      "text/plain": [
       "<Figure size 432x288 with 1 Axes>"
      ]
     },
     "metadata": {
      "needs_background": "light"
     },
     "output_type": "display_data"
    }
   ],
   "source": [
    "plt.imshow(out, extent=[X[0], X[-1], Y[-1], Y[0]])\n",
    "plt.scatter(x=[a[0], b[0]], y=[a[1], b[1]])\n",
    "plt.show()"
   ]
  },
  {
   "cell_type": "code",
   "execution_count": 66,
   "metadata": {},
   "outputs": [],
   "source": [
    "alpha = 0.001"
   ]
  },
  {
   "cell_type": "code",
   "execution_count": 54,
   "metadata": {},
   "outputs": [],
   "source": [
    "\n",
    "\n",
    "one_d_U = gaussian_sum(potential_params)\n",
    "one_d_grad_U = grad_gaussian_sum(potential_params)\n",
    "U = lambda inp: one_d_U(np.array([inp[0]])) + one_d_U(np.array([inp[1]])) + alpha*((inp[0] - p[0])**2 + (inp[1] - p[1])**2)\n",
    "grad_U = lambda inp: np.array([one_d_grad_U(np.array([inp[0]]))[0] - 2*alpha*(inp[0] - p[0]),  one_d_grad_U(np.array([inp[1]]))[0] - 2*alpha*(inp[0] - p[0])])"
   ]
  },
  {
   "cell_type": "code",
   "execution_count": 78,
   "metadata": {},
   "outputs": [],
   "source": [
    "g_params = [[-10, 1, -2], [0, 10, -1], [10, 3, 1], [-20, 1, 3], [20, 1, 3]]\n",
    "attraction_params = {\"alpha\": 0.001, \"origin_point\": [-9.89, 10]}\n",
    "# g_params = [[-10, 0.7, -1], [0, 10, -1.5], [9, 3, 1], [17.5, 10, -0.5], [-20, 1, 3], [25, 1, 3]]\n",
    "# g_params = [[-40, 0.7, -2],[-30, 0.7, -1.5],[-5, 0.7, -1], [35, 0.7, -1.5], \n",
    "#             [-17.5, 30, -3], [5, 10, -1.5], [14, 3, 1], [25, 10, -0.5], \n",
    "#             [-50, 1, 3], [50, 1, 3]]\n",
    "\n",
    "process = {}\n",
    "\n",
    "process[\"particle_init\"] = {\"name\": \"2d_position\", \n",
    "                            \"num_particles\": 10,\n",
    "                           \"params\": {\"position\": [10, -9.89]}}\n",
    "\n",
    "process[\"potential_function\"] = {\"name\": \"2d_gaussian_symmetric_attraction\", #} \n",
    "                                 \"params\": {\"g_params\": g_params, \"attraction\": attraction_params}}\n",
    "\n",
    "process[\"total_iter\"] = 1\n",
    "process[\"tau\"] = 100\n",
    "process[\"x_range\"] = [-25, 25]\n",
    "\n",
    "process[\"gamma\"] = 1\n",
    "process[\"temperature\"] = 0.75\n",
    "process[\"epsilon\"] = 0\n",
    "\n",
    "process[\"weight_function\"] = {\"name\": \"norm\"} \n",
    "# process[\"weight_function\"] = {\"name\": \"partial_norm\", \"params\": {\"partials\": np.array([0])}} \n",
    "\n",
    "process[\"resample_function\"] = {\"name\": \"softmax\", \"params\": {\"beta\": -0.5}} \n",
    "\n",
    "process[\"domain_enforcer\"] = {\"name\": \"hyper_cube_enforcer\", \"params\": {\"strength\": 0.2}}\n",
    "\n",
    "all_paths = diffusion_resampling(process, return_full_path=True)\n"
   ]
  },
  {
   "cell_type": "code",
   "execution_count": 79,
   "metadata": {},
   "outputs": [],
   "source": [
    "# want to get order: big_timestep, tau_timestep, particle, point\n",
    "\n",
    "f, grad_f = get_potential(process)\n",
    "\n",
    "inp = all_paths.reshape([np.product(all_paths.shape[:3]), all_paths.shape[-1]]).T\n",
    "out = f(inp)\n",
    "all_paths_proc = np.concatenate([inp.T, out.reshape([len(out), 1])], axis=1).reshape(all_paths.shape[0], all_paths.shape[1], all_paths.shape[2], 3)"
   ]
  },
  {
   "cell_type": "code",
   "execution_count": 80,
   "metadata": {},
   "outputs": [],
   "source": [
    "# get the function plot inputs\n",
    "\n",
    "X = np.linspace(process[\"x_range\"][0], process[\"x_range\"][1], 100)\n",
    "Y = np.linspace(process[\"x_range\"][0], process[\"x_range\"][1], 100)\n",
    "inp = np.array(np.meshgrid(X, Y)).reshape(2, len(X)*len(Y))\n",
    "\n",
    "Z = f(inp).reshape(len(X), len(Y))"
   ]
  },
  {
   "cell_type": "code",
   "execution_count": null,
   "metadata": {},
   "outputs": [],
   "source": [
    "# full process densities \n",
    "K = multi_gaussian(np.array([[0.6,  0], [0, 0.6]]))\n",
    "\n",
    "folder_name = \"full_{}_{}\".format(process[\"potential_function\"][\"name\"], process[\"tau\"])\n",
    "saved_path = create_animation_2d_pictures_particles(all_paths_proc, X, Y, Z, folder_name=folder_name, \n",
    "                                                    graph_details={\"type\": \"contour\", \"p_size\": 3, #\"density_function\": None})\n",
    "                                                                    \"density_function\": None, #lambda inp, p: V(inp, K, p),\n",
    "                                                                  \"interpolation\": \"bilinear\"})\n",
    "create_animation(saved_path, \"{}.mp4\".format(folder_name), framerate=10)\n",
    "\n",
    "time.sleep(3) # otherwise it deletes the images before getting the video\n",
    "remove_png(saved_path)\n",
    "save_config(saved_path, process)"
   ]
  },
  {
   "cell_type": "code",
   "execution_count": null,
   "metadata": {},
   "outputs": [],
   "source": []
  }
 ],
 "metadata": {
  "kernelspec": {
   "display_name": "Python 3",
   "language": "python",
   "name": "python3"
  },
  "language_info": {
   "codemirror_mode": {
    "name": "ipython",
    "version": 3
   },
   "file_extension": ".py",
   "mimetype": "text/x-python",
   "name": "python",
   "nbconvert_exporter": "python",
   "pygments_lexer": "ipython3",
   "version": "3.7.3"
  }
 },
 "nbformat": 4,
 "nbformat_minor": 2
}
