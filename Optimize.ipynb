{
 "cells": [
  {
   "cell_type": "code",
   "execution_count": 1,
   "metadata": {},
   "outputs": [],
   "source": [
    "from Functions import *\n",
    "from Optimizations import *\n",
    "from utils import *\n",
    "from Saving import *"
   ]
  },
  {
   "cell_type": "code",
   "execution_count": 2,
   "metadata": {},
   "outputs": [],
   "source": [
    "import time"
   ]
  },
  {
   "cell_type": "code",
   "execution_count": 3,
   "metadata": {},
   "outputs": [],
   "source": [
    "f = flat_sharp_gaussian\n",
    "grad_f = grad_flat_sharp_gaussian"
   ]
  },
  {
   "cell_type": "code",
   "execution_count": 8,
   "metadata": {},
   "outputs": [],
   "source": [
    "def weight_function(U, grad_U, x):\n",
    "    return np.linalg.norm(grad_U(x), axis=1)\n",
    "\n",
    "num_particles = 100\n",
    "process = {}\n",
    "process[\"start\"] = [[np.random.uniform(-15, 15)] for _ in range(num_particles)]\n",
    "process[\"gamma\"] = lambda t: 3\n",
    "process[\"temperature\"] = lambda t: 0.5\n",
    "process[\"epsilon\"] = 0\n",
    "process[\"weight_function\"] = weight_function\n",
    "\n",
    "process[\"resample_function\"] = lambda w, end_p: resample_positions_softmax(w, end_p, beta=-100) #\n",
    "# process[\"resample_function\"] =  lambda w, end_p: end_p # \n",
    "all_paths = diffusion_resampling(f, grad_f, process, 20, 50, domain_enforcer=hyper_cube_enforcer(15, -15, 0.2))\n"
   ]
  },
  {
   "cell_type": "code",
   "execution_count": 9,
   "metadata": {},
   "outputs": [],
   "source": [
    "X = np.linspace(-15, 15, 200)\n",
    "inp = np.array([X])\n",
    "Y = flat_sharp_gaussian(inp)\n",
    "\n",
    "all_paths_proc = []\n",
    "\n",
    "for t in range(len(all_paths)):\n",
    "    curr_paths = all_paths[t]\n",
    "    \n",
    "    all_paths_proc.append([])\n",
    "    \n",
    "    for p in range(len(curr_paths)):\n",
    "        x_curr = np.array(curr_paths[p])\n",
    "        out = f(x_curr.T)\n",
    "        all_paths_proc[-1].append(np.concatenate([x_curr, out.reshape(len(out), 1)], axis=1))\n",
    "\n",
    "all_paths_proc = np.array(all_paths_proc)"
   ]
  },
  {
   "cell_type": "code",
   "execution_count": 10,
   "metadata": {},
   "outputs": [],
   "source": [
    "ani_path = create_animation_1d_pictures_particles(all_paths_proc, X, Y)"
   ]
  },
  {
   "cell_type": "code",
   "execution_count": 11,
   "metadata": {},
   "outputs": [],
   "source": [
    "create_animation(ani_path, \"test.mp4\", framerate=10)"
   ]
  },
  {
   "cell_type": "code",
   "execution_count": null,
   "metadata": {},
   "outputs": [],
   "source": []
  }
 ],
 "metadata": {
  "kernelspec": {
   "display_name": "Python 3",
   "language": "python",
   "name": "python3"
  },
  "language_info": {
   "codemirror_mode": {
    "name": "ipython",
    "version": 3
   },
   "file_extension": ".py",
   "mimetype": "text/x-python",
   "name": "python",
   "nbconvert_exporter": "python",
   "pygments_lexer": "ipython3",
   "version": "3.6.8"
  }
 },
 "nbformat": 4,
 "nbformat_minor": 2
}
