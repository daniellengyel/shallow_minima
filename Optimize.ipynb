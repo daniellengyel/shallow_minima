{
 "cells": [
  {
   "cell_type": "code",
   "execution_count": 11,
   "metadata": {},
   "outputs": [
    {
     "name": "stdout",
     "output_type": "stream",
     "text": [
      "The autoreload extension is already loaded. To reload it, use:\n",
      "  %reload_ext autoreload\n"
     ]
    }
   ],
   "source": [
    "from Functions import *\n",
    "from Optimizations import *\n",
    "from utils import *\n",
    "from Saving import *\n",
    "\n",
    "%load_ext autoreload\n",
    "\n",
    "%autoreload 2"
   ]
  },
  {
   "cell_type": "code",
   "execution_count": 46,
   "metadata": {},
   "outputs": [],
   "source": [
    "import time\n",
    "import yaml"
   ]
  },
  {
   "cell_type": "code",
   "execution_count": 3,
   "metadata": {},
   "outputs": [],
   "source": [
    "f = flat_sharp_gaussian\n",
    "grad_f = grad_flat_sharp_gaussian\n",
    "\n",
    "x_range = [-25, 25]"
   ]
  },
  {
   "cell_type": "code",
   "execution_count": 18,
   "metadata": {},
   "outputs": [],
   "source": [
    "A = np.array([[1]])\n",
    "b = np.array([0])\n",
    "f = QuadraticFunctionInit(A, b)\n",
    "grad_f = GradQuadraticFunctionInit(A)\n",
    "\n",
    "x_range = [-15, 15]"
   ]
  },
  {
   "cell_type": "code",
   "execution_count": 26,
   "metadata": {},
   "outputs": [],
   "source": [
    "g_params = [[-10, 1, -2], [0, 10, -1], [10, 3, 1], [-20, 1, 3], [20, 1, 3]]\n",
    "f = gaussian_sum(g_params)\n",
    "grad_f = grad_gaussian_sum(g_params)\n",
    "\n",
    "x_range = [-20, 20]"
   ]
  },
  {
   "cell_type": "code",
   "execution_count": 43,
   "metadata": {},
   "outputs": [],
   "source": [
    "num_particles = 1000\n",
    "process = {}\n",
    "\n",
    "process[\"potential_function\"] = {\"name\": \"gaussian\", \"params\": g_params}\n",
    "\n",
    "process[\"total_iter\"] = 20\n",
    "process[\"tau\"] = 50\n",
    "process[\"x_range\"] = x_range\n",
    "\n",
    "process[\"start\"] = [[np.random.uniform(x_range[0], x_range[1])] for _ in range(num_particles)]\n",
    "process[\"gamma\"] = lambda t: 2.5\n",
    "process[\"temperature\"] = lambda t: 1\n",
    "process[\"epsilon\"] = 0\n",
    "\n",
    "process[\"weight_function\"] = {\"name\": \"discounted_norm\", \"params\": {\"gamma\" : 0.999}} \n",
    "process[\"resample_function\"] = {\"name\": \"softmax\", \"params\": {\"beta\": -1}} \n",
    "\n",
    "process[\"domain_enforcer\"] = {\"name\": \"hyper_cube_enforcer\", \"params\": {\"strength\": 0.2}}\n",
    "\n",
    "all_paths = diffusion_resampling(process)\n"
   ]
  },
  {
   "cell_type": "code",
   "execution_count": null,
   "metadata": {},
   "outputs": [],
   "source": []
  },
  {
   "cell_type": "code",
   "execution_count": 44,
   "metadata": {},
   "outputs": [],
   "source": [
    "X = np.linspace(x_range[0], x_range[1], 200)\n",
    "inp = np.array([X])\n",
    "Y = f(inp)\n",
    "\n",
    "all_paths_proc = []\n",
    "\n",
    "for t in range(len(all_paths)):\n",
    "    curr_paths = all_paths[t]\n",
    "    \n",
    "    all_paths_proc.append([])\n",
    "    \n",
    "    for p in range(len(curr_paths)):\n",
    "        x_curr = np.array(curr_paths[p])\n",
    "        out = f(x_curr.T)\n",
    "        all_paths_proc[-1].append(np.concatenate([x_curr, out.reshape(len(out), 1)], axis=1))\n",
    "\n",
    "all_paths_proc = np.array(all_paths_proc)"
   ]
  },
  {
   "cell_type": "code",
   "execution_count": 13,
   "metadata": {},
   "outputs": [],
   "source": [
    "# Approximating density with the particles\n",
    "def V(x, K, particles):\n",
    "    N = len(particles)\n",
    "    ret_sum = 0\n",
    "    for p in particles:\n",
    "        ret_sum += K(x, p)\n",
    "    return 1 / float(N) * ret_sum"
   ]
  },
  {
   "cell_type": "code",
   "execution_count": 45,
   "metadata": {},
   "outputs": [],
   "source": [
    "K = multi_gaussian(np.array([[0.6]]))\n",
    "\n",
    "\n",
    "saved_path = create_animation_1d_pictures_particles(all_paths_proc, X, Y, graph_details={\"p_size\": 3, #\"density_function\": None})\n",
    "                                                                                      \"density_function\": \n",
    "                                                                                      lambda x, p: V(np.array([x]), K, p)})\n",
    "with open(saved_path + \"/process.yml\", \"w\") as f:\n",
    "    yaml.dump(process, f, default_flow_style=False)\n",
    "    \n",
    "    \n",
    "create_animation(saved_path, \"test.mp4\", framerate=15)"
   ]
  },
  {
   "cell_type": "code",
   "execution_count": 49,
   "metadata": {},
   "outputs": [],
   "source": [
    "with open(ani_path + \"/process.yml\", \"w\") as f:\n",
    "    yaml.dump(process, f, default_flow_style=False)"
   ]
  },
  {
   "cell_type": "code",
   "execution_count": 54,
   "metadata": {},
   "outputs": [],
   "source": [
    "def remove_png(dir_path):\n",
    "    import os\n",
    "\n",
    "    files = os.listdir(dir_path)\n",
    "\n",
    "    for item in files:\n",
    "        if item.endswith(\".png\"):\n",
    "            os.remove(os.path.join(dir_path, item))"
   ]
  },
  {
   "cell_type": "code",
   "execution_count": 55,
   "metadata": {},
   "outputs": [],
   "source": [
    "remove_png(ani_path)"
   ]
  },
  {
   "cell_type": "markdown",
   "metadata": {},
   "source": [
    "### Things to note:\n",
    "\n",
    "The beta value of the softmax turns out to be very important. Adjusting that value determines how much to value each respective shallow/flat regions. Seems like changing it can give you a nice stationary distribution around certain falt minima. \n",
    "\n",
    "Also the tau value is important. Letting the run run for too long will cause the particles to approach more or less the stationary distribution if ran with soley diffusion. \n",
    "\n",
    "Maybe penalize where you started from. \n",
    "\n"
   ]
  }
 ],
 "metadata": {
  "kernelspec": {
   "display_name": "Python 3",
   "language": "python",
   "name": "python3"
  },
  "language_info": {
   "codemirror_mode": {
    "name": "ipython",
    "version": 3
   },
   "file_extension": ".py",
   "mimetype": "text/x-python",
   "name": "python",
   "nbconvert_exporter": "python",
   "pygments_lexer": "ipython3",
   "version": "3.6.9"
  }
 },
 "nbformat": 4,
 "nbformat_minor": 2
}
