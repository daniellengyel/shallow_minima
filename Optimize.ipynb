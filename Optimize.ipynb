{
 "cells": [
  {
   "cell_type": "code",
   "execution_count": 1,
   "metadata": {},
   "outputs": [],
   "source": [
    "from Functions import *\n",
    "from Optimizations import *\n",
    "from utils import *\n",
    "from Saving import *\n",
    "\n",
    "%load_ext autoreload\n",
    "\n",
    "%autoreload 2"
   ]
  },
  {
   "cell_type": "code",
   "execution_count": 2,
   "metadata": {},
   "outputs": [],
   "source": [
    "import time\n",
    "import yaml"
   ]
  },
  {
   "cell_type": "code",
   "execution_count": 6,
   "metadata": {},
   "outputs": [
    {
     "name": "stdout",
     "output_type": "stream",
     "text": [
      "0.44879309428608855\n",
      "0.7212484265563016\n",
      "0.7654524577124526\n",
      "0.779833210512062\n",
      "0.7773651848784473\n",
      "0.7779496456674386\n",
      "0.773609596583744\n",
      "0.7772423271419578\n",
      "0.7831276388238335\n",
      "0.7756602980108181\n",
      "0.7819549569821472\n",
      "0.7796747478646563\n",
      "0.7722925320849242\n",
      "0.7684400181068154\n",
      "0.7744838404590537\n",
      "0.768594446880883\n",
      "0.7809677633957164\n",
      "0.7752118724118242\n",
      "0.7687961988728431\n",
      "0.774883175933849\n",
      "0.7714340157293047\n",
      "0.7784910475241565\n",
      "0.7702309585006931\n",
      "0.7813233352266679\n",
      "0.7760506385805169\n",
      "0.7772945019553179\n",
      "0.7784560355023604\n",
      "0.7701132802417954\n",
      "0.7776209553859811\n",
      "0.777100072364413\n",
      "0.7636816442255596\n",
      "0.7702334713321057\n",
      "0.7794315144198805\n",
      "0.7688135092831797\n",
      "0.7768646650903015\n",
      "0.776297587687458\n",
      "0.7827497533100939\n",
      "0.7788004760828546\n",
      "0.7793860592704637\n",
      "0.7677781943024901\n",
      "0.7730934541002552\n",
      "0.7715036278164791\n",
      "0.7812049574771972\n",
      "0.7743200510816428\n",
      "0.7742360424837951\n",
      "0.7764437929265093\n",
      "0.7661992712476583\n",
      "0.7772611840338647\n",
      "0.7746834891041008\n",
      "0.7786129020499274\n"
     ]
    }
   ],
   "source": [
    "# g_params = [[-10, 1, -2], [0, 10, -1], [10, 3, 1], [-20, 1, 3], [20, 1, 3]]\n",
    "# g_params = [[-10, 0.7, -1], [0, 10, -1.5], [9, 3, 1], [17.5, 10, -0.5], [-20, 1, 3], [25, 1, 3]]\n",
    "g_params = [[-40, 0.7, -2],[-30, 0.7, -1.5],[-5, 0.7, -1], [35, 0.7, -1.5], \n",
    "            [-17.5, 30, -3], [5, 10, -1.5], [14, 3, 1], [25, 10, -0.5], \n",
    "            [-50, 1, 3], [50, 1, 3]]\n",
    "\n",
    "process = {}\n",
    "\n",
    "process[\"particle_init\"] = {\"name\": \"1d_uniform\", \n",
    "                            \"num_particles\": 5000}\n",
    "\n",
    "process[\"potential_function\"] = {\"name\": \"gaussian\", \n",
    "                                 \"params\": g_params}\n",
    "\n",
    "process[\"total_iter\"] = 50\n",
    "process[\"tau\"] = 50\n",
    "process[\"x_range\"] = [-25, 25]\n",
    "\n",
    "process[\"gamma\"] = 0.1\n",
    "process[\"temperature\"] = 0.5\n",
    "process[\"epsilon\"] = 0\n",
    "\n",
    "process[\"weight_function\"] = {\"name\": \"norm\"} \n",
    "process[\"resample_function\"] = {\"name\": \"softmax\", \"params\": {\"beta\": 0.5}} \n",
    "\n",
    "process[\"domain_enforcer\"] = {\"name\": \"hyper_cube_enforcer\", \"params\": {\"strength\": 0.2}}\n",
    "\n",
    "all_paths = diffusion_resampling(process, return_full_path=False)\n"
   ]
  },
  {
   "cell_type": "code",
   "execution_count": 7,
   "metadata": {},
   "outputs": [],
   "source": [
    "# want to get order: big_timestep, tau_timestep, particle, point\n",
    "\n",
    "f, grad_f = get_potential(process)\n",
    "\n",
    "X = np.linspace(process[\"x_range\"][0], process[\"x_range\"][1], 200)\n",
    "inp = np.array([X])\n",
    "Y = f(inp)\n",
    "\n",
    "inp = all_paths.reshape([np.product(all_paths.shape[:3]), all_paths.shape[-1]]).T\n",
    "out = f(inp)\n",
    "all_paths_proc = np.concatenate([inp.T, out.reshape([len(out), 1])], axis=1).reshape(all_paths.shape[0], all_paths.shape[1], all_paths.shape[2], 2)"
   ]
  },
  {
   "cell_type": "code",
   "execution_count": null,
   "metadata": {
    "scrolled": true
   },
   "outputs": [],
   "source": [
    "# full process densities \n",
    "K = multi_gaussian(np.array([[0.6]]))\n",
    "\n",
    "folder_name = \"full_{}_{}\".format(process[\"potential_function\"][\"name\"], process[\"tau\"])\n",
    "saved_path = create_animation_1d_pictures_particles(all_paths_proc, X, Y, folder_name=folder_name, graph_details={\"p_size\": 3, #\"density_function\": None})\n",
    "                                                                                      \"density_function\": \n",
    "                                                                                      lambda x, p: V(np.array([x]), K, p)})\n",
    "    \n",
    "create_animation(saved_path, \"{}.mp4\".format(folder_name), framerate=10)\n",
    "\n",
    "time.sleep(3) # otherwise it deletes the images before getting the video\n",
    "remove_png(saved_path)import plotly.graph_objects as go\n",
    "save_config(saved_path, process)"
   ]
  },
  {
   "cell_type": "code",
   "execution_count": 8,
   "metadata": {},
   "outputs": [],
   "source": [
    "# only feynman kac after selection densities \n",
    "fk_all_paths_proc = all_paths_proc[:, :, 0, :]\n",
    "fk_all_paths_proc = fk_all_paths_proc.reshape([fk_all_paths_proc.shape[0], fk_all_paths_proc.shape[1], 1, fk_all_paths_proc.shape[2]])\n",
    "\n",
    "K = multi_gaussian(np.array([[0.6]]))\n",
    "\n",
    "folder_name = \"selection_{}_{}_{}\".format(process[\"potential_function\"][\"name\"], process[\"resample_function\"][\"params\"][\"beta\"], process[\"tau\"])\n",
    "saved_path = create_animation_1d_pictures_particles(fk_all_paths_proc, X, Y, folder_name=folder_name, graph_details={\"p_size\": 3, #\"density_function\": None})\n",
    "                                                                                      \"density_function\": \n",
    "                                                                                      lambda x, p: V(np.array([x]), K, p)})\n",
    "    \n",
    "create_animation(saved_path, \"{}.mp4\".format(folder_name), framerate=10)\n",
    "\n",
    "time.sleep(3) # otherwise it deletes the images before getting the video\n",
    "remove_png(saved_path)\n",
    "save_config(saved_path, process)"
   ]
  },
  {
   "cell_type": "code",
   "execution_count": 121,
   "metadata": {},
   "outputs": [],
   "source": [
    "# only feynman kac after mutation densities \n",
    "fk_all_paths_proc = all_paths_proc[:, :, -1, :]\n",
    "fk_all_paths_proc = fk_all_paths_proc.reshape([fk_all_paths_proc.shape[0], fk_all_paths_proc.shape[1], 1, fk_all_paths_proc.shape[2]])\n",
    "\n",
    "K = multi_gaussian(np.array([[0.6]]))\n",
    "\n",
    "folder_name = \"mutation_{}_{}_{}\".format(process[\"potential_function\"][\"name\"], process[\"resample_function\"][\"params\"][\"beta\"], process[\"tau\"])\n",
    "saved_path = create_animation_1d_pictures_particles(fk_all_paths_proc, X, Y, folder_name=folder_name, graph_details={\"p_size\": 3, #\"density_function\": None})\n",
    "                                                                                      \"density_function\": \n",
    "                                                                                      lambda x, p: V(np.array([x]), K, p)})\n",
    "    \n",
    "create_animation(saved_path, \"{}.mp4\".format(folder_name), framerate=10)\n",
    "\n",
    "time.sleep(3) # otherwise it deletes the images before getting the video\n",
    "remove_png(saved_path)\n",
    "save_config(saved_path, process)"
   ]
  },
  {
   "cell_type": "markdown",
   "metadata": {},
   "source": [
    "### Things to note:\n",
    "\n",
    "The beta value of the softmax turns out to be very important. Adjusting that value determines how much to value each respective shallow/flat regions. Seems like changing it can give you a nice stationary distribution around certain falt minima. \n",
    "\n",
    "Also the tau value is important. Letting the run run for too long will cause the particles to approach more or less the stationary distribution if ran with soley diffusion. \n",
    "\n",
    "Maybe penalize where you started from. \n",
    "\n"
   ]
  },
  {
   "cell_type": "code",
   "execution_count": 1,
   "metadata": {},
   "outputs": [
    {
     "ename": "NameError",
     "evalue": "name 'yaml' is not defined",
     "output_type": "error",
     "traceback": [
      "\u001b[0;31m---------------------------------------------------------------------------\u001b[0m",
      "\u001b[0;31mNameError\u001b[0m                                 Traceback (most recent call last)",
      "\u001b[0;32m<ipython-input-1-e316a41120e8>\u001b[0m in \u001b[0;36m<module>\u001b[0;34m\u001b[0m\n\u001b[1;32m      4\u001b[0m     \u001b[0;32mreturn\u001b[0m \u001b[0mc\u001b[0m\u001b[0;34m\u001b[0m\u001b[0;34m\u001b[0m\u001b[0m\n\u001b[1;32m      5\u001b[0m \u001b[0;34m\u001b[0m\u001b[0m\n\u001b[0;32m----> 6\u001b[0;31m \u001b[0mc\u001b[0m \u001b[0;34m=\u001b[0m \u001b[0mload_config\u001b[0m\u001b[0;34m(\u001b[0m\u001b[0;34m\"./tmp/1d__1579540892.8095877\"\u001b[0m\u001b[0;34m)\u001b[0m\u001b[0;34m\u001b[0m\u001b[0;34m\u001b[0m\u001b[0m\n\u001b[0m",
      "\u001b[0;32m<ipython-input-1-e316a41120e8>\u001b[0m in \u001b[0;36mload_config\u001b[0;34m(load_dir)\u001b[0m\n\u001b[1;32m      1\u001b[0m \u001b[0;32mdef\u001b[0m \u001b[0mload_config\u001b[0m\u001b[0;34m(\u001b[0m\u001b[0mload_dir\u001b[0m\u001b[0;34m)\u001b[0m\u001b[0;34m:\u001b[0m\u001b[0;34m\u001b[0m\u001b[0;34m\u001b[0m\u001b[0m\n\u001b[1;32m      2\u001b[0m     \u001b[0;32mwith\u001b[0m \u001b[0mopen\u001b[0m\u001b[0;34m(\u001b[0m\u001b[0mload_dir\u001b[0m \u001b[0;34m+\u001b[0m \u001b[0;34m\"/process.yml\"\u001b[0m\u001b[0;34m,\u001b[0m \u001b[0;34m\"r\"\u001b[0m\u001b[0;34m)\u001b[0m \u001b[0;32mas\u001b[0m \u001b[0mf\u001b[0m\u001b[0;34m:\u001b[0m\u001b[0;34m\u001b[0m\u001b[0;34m\u001b[0m\u001b[0m\n\u001b[0;32m----> 3\u001b[0;31m         \u001b[0mc\u001b[0m \u001b[0;34m=\u001b[0m \u001b[0myaml\u001b[0m\u001b[0;34m.\u001b[0m\u001b[0mload\u001b[0m\u001b[0;34m(\u001b[0m\u001b[0mf\u001b[0m\u001b[0;34m)\u001b[0m\u001b[0;34m\u001b[0m\u001b[0;34m\u001b[0m\u001b[0m\n\u001b[0m\u001b[1;32m      4\u001b[0m     \u001b[0;32mreturn\u001b[0m \u001b[0mc\u001b[0m\u001b[0;34m\u001b[0m\u001b[0;34m\u001b[0m\u001b[0m\n\u001b[1;32m      5\u001b[0m \u001b[0;34m\u001b[0m\u001b[0m\n",
      "\u001b[0;31mNameError\u001b[0m: name 'yaml' is not defined"
     ]
    }
   ],
   "source": [
    "def load_config(load_dir):\n",
    "    with open(load_dir + \"/process.yml\", \"r\") as f:\n",
    "        c = yaml.load(f)\n",
    "    return c\n",
    "\n",
    "c = load_config(\"./tmp/1d__1579540892.8095877\")"
   ]
  }
 ],
 "metadata": {
  "kernelspec": {
   "display_name": "Python 3",
   "language": "python",
   "name": "python3"
  },
  "language_info": {
   "codemirror_mode": {
    "name": "ipython",
    "version": 3
   },
   "file_extension": ".py",
   "mimetype": "text/x-python",
   "name": "python",
   "nbconvert_exporter": "python",
   "pygments_lexer": "ipython3",
   "version": "3.6.9"
  }
 },
 "nbformat": 4,
 "nbformat_minor": 2
}
